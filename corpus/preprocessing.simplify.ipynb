{
 "cells": [
  {
   "cell_type": "code",
   "execution_count": 1,
   "metadata": {
    "collapsed": true
   },
   "outputs": [],
   "source": [
    "import pandas as pd\n",
    "import numpy as np\n",
    "from nltk.tokenize import word_tokenize\n",
    "import string\n",
    "\n",
    "import pickle"
   ]
  },
  {
   "cell_type": "code",
   "execution_count": 1,
   "metadata": {
    "collapsed": true
   },
   "outputs": [],
   "source": [
    "f = open(\"corpus/train.en\")\n",
    "compl = f.read().split(\"\\n\")"
   ]
  },
  {
   "cell_type": "code",
   "execution_count": 3,
   "metadata": {
    "collapsed": true
   },
   "outputs": [],
   "source": [
    "f = open(\"corpus/train.sen\")\n",
    "simpl = f.read().split(\"\\n\")"
   ]
  },
  {
   "cell_type": "code",
   "execution_count": 2,
   "metadata": {},
   "outputs": [
    {
     "data": {
      "text/plain": [
       "list"
      ]
     },
     "execution_count": 2,
     "metadata": {},
     "output_type": "execute_result"
    }
   ],
   "source": [
    "type(compl)"
   ]
  },
  {
   "cell_type": "code",
   "execution_count": 4,
   "metadata": {},
   "outputs": [
    {
     "data": {
      "text/plain": [
       "'Frederick married Princess Victoria , eldest daughter of Queen Victoria of the United Kingdom .'"
      ]
     },
     "execution_count": 4,
     "metadata": {},
     "output_type": "execute_result"
    }
   ],
   "source": [
    "compl[10]"
   ]
  },
  {
   "cell_type": "code",
   "execution_count": 5,
   "metadata": {},
   "outputs": [
    {
     "data": {
      "text/plain": [
       "'On 25 January 1858 he married Princess Victoria of the United Kingdom , eldest child of Queen Victoria and Albert the Prince Consort .'"
      ]
     },
     "execution_count": 5,
     "metadata": {},
     "output_type": "execute_result"
    }
   ],
   "source": [
    "simpl[10]"
   ]
  },
  {
   "cell_type": "code",
   "execution_count": 6,
   "metadata": {
    "collapsed": true
   },
   "outputs": [],
   "source": [
    "cosi = pd.DataFrame(np.column_stack([compl,  simpl]), columns=['complex', 'simple'])"
   ]
  },
  {
   "cell_type": "code",
   "execution_count": 7,
   "metadata": {},
   "outputs": [
    {
     "data": {
      "text/plain": [
       "284678"
      ]
     },
     "execution_count": 7,
     "metadata": {},
     "output_type": "execute_result"
    }
   ],
   "source": [
    "len(cosi)"
   ]
  },
  {
   "cell_type": "code",
   "execution_count": 8,
   "metadata": {},
   "outputs": [
    {
     "data": {
      "text/plain": [
       "247370"
      ]
     },
     "execution_count": 8,
     "metadata": {},
     "output_type": "execute_result"
    }
   ],
   "source": [
    "uniqcosi = cosi[cosi['complex'] != cosi['simple']]\n",
    "len(uniqcosi)"
   ]
  },
  {
   "cell_type": "code",
   "execution_count": 9,
   "metadata": {
    "collapsed": true
   },
   "outputs": [],
   "source": [
    "uniqcompl = list(uniqcosi['complex'].values)\n",
    "uniqsimpl = list(uniqcosi['simple'].values)"
   ]
  },
  {
   "cell_type": "code",
   "execution_count": null,
   "metadata": {
    "collapsed": true
   },
   "outputs": [],
   "source": []
  },
  {
   "cell_type": "code",
   "execution_count": 10,
   "metadata": {
    "collapsed": true
   },
   "outputs": [],
   "source": [
    "luniqcompl = [str(descr).lower() for descr in uniqcompl]\n",
    "luniqsimpl = [str(descr).lower() for descr in uniqsimpl]"
   ]
  },
  {
   "cell_type": "code",
   "execution_count": null,
   "metadata": {
    "collapsed": true
   },
   "outputs": [],
   "source": []
  },
  {
   "cell_type": "code",
   "execution_count": 11,
   "metadata": {
    "collapsed": true
   },
   "outputs": [],
   "source": [
    "def tokenize_corpus(corpus):\n",
    "\ttokenized_corpus = []\n",
    "\tfor sentence in corpus:\n",
    "\t\ttokenized_corpus.append(word_tokenize(sentence))\n",
    "\treturn tokenized_corpus"
   ]
  },
  {
   "cell_type": "code",
   "execution_count": 12,
   "metadata": {
    "collapsed": true
   },
   "outputs": [],
   "source": [
    "tokenized1 = tokenize_corpus(luniqcompl)\n",
    "tokenized2 = tokenize_corpus(luniqsimpl)"
   ]
  },
  {
   "cell_type": "code",
   "execution_count": 13,
   "metadata": {},
   "outputs": [
    {
     "data": {
      "text/plain": [
       "[['gingerbread',\n",
       "  'was',\n",
       "  'brought',\n",
       "  'to',\n",
       "  'europe',\n",
       "  'in',\n",
       "  '992',\n",
       "  'by',\n",
       "  'the',\n",
       "  'armenian',\n",
       "  'monk',\n",
       "  'gregory',\n",
       "  'of',\n",
       "  'nicopolis',\n",
       "  '(',\n",
       "  'gregory',\n",
       "  'makar',\n",
       "  ')',\n",
       "  '(',\n",
       "  'grégoire',\n",
       "  'de',\n",
       "  'nicopolis',\n",
       "  ')',\n",
       "  '.'],\n",
       " ['it',\n",
       "  'was',\n",
       "  'the',\n",
       "  'custom',\n",
       "  'to',\n",
       "  'bake',\n",
       "  'white',\n",
       "  'biscuits',\n",
       "  'and',\n",
       "  'paint',\n",
       "  'them',\n",
       "  'as',\n",
       "  'window',\n",
       "  'decorations',\n",
       "  '.'],\n",
       " ['during',\n",
       "  'the',\n",
       "  '13th',\n",
       "  'century',\n",
       "  ',',\n",
       "  'gingerbread',\n",
       "  'was',\n",
       "  'brought',\n",
       "  'to',\n",
       "  'sweden',\n",
       "  'by',\n",
       "  'german',\n",
       "  'immigrants',\n",
       "  '.'],\n",
       " ['it',\n",
       "  'then',\n",
       "  'referred',\n",
       "  'to',\n",
       "  'a',\n",
       "  'confection',\n",
       "  'made',\n",
       "  'with',\n",
       "  'honey',\n",
       "  'and',\n",
       "  'spices',\n",
       "  '.'],\n",
       " ['the',\n",
       "  'first',\n",
       "  'documented',\n",
       "  'trade',\n",
       "  'of',\n",
       "  'gingerbread',\n",
       "  'biscuits',\n",
       "  'dates',\n",
       "  'to',\n",
       "  'the',\n",
       "  '17th',\n",
       "  'century',\n",
       "  ',',\n",
       "  'where',\n",
       "  'they',\n",
       "  'were',\n",
       "  'sold',\n",
       "  'in',\n",
       "  'monasteries',\n",
       "  ',',\n",
       "  'pharmacies',\n",
       "  'and',\n",
       "  'town',\n",
       "  'square',\n",
       "  'farmers',\n",
       "  \"'\",\n",
       "  'markets',\n",
       "  '.'],\n",
       " ['he',\n",
       "  'left',\n",
       "  'nicopolis',\n",
       "  'pompeii',\n",
       "  ',',\n",
       "  'to',\n",
       "  'live',\n",
       "  'in',\n",
       "  'bondaroy',\n",
       "  '(',\n",
       "  'france',\n",
       "  ')',\n",
       "  ',',\n",
       "  'near',\n",
       "  'the',\n",
       "  'town',\n",
       "  'of',\n",
       "  'pithiviers',\n",
       "  '.'],\n",
       " ['originally',\n",
       "  ',',\n",
       "  'the',\n",
       "  'term',\n",
       "  'gingerbread',\n",
       "  '(',\n",
       "  'from',\n",
       "  'latin',\n",
       "  'zingiber',\n",
       "  'via',\n",
       "  'old',\n",
       "  'french',\n",
       "  'gingebras',\n",
       "  ')',\n",
       "  'referred',\n",
       "  'to',\n",
       "  'preserved',\n",
       "  'ginger',\n",
       "  '.'],\n",
       " ['early',\n",
       "  'references',\n",
       "  'from',\n",
       "  'the',\n",
       "  'vadstena',\n",
       "  'abbey',\n",
       "  'show',\n",
       "  'how',\n",
       "  'the',\n",
       "  'swedish',\n",
       "  'nuns',\n",
       "  'were',\n",
       "  'baking',\n",
       "  'gingerbread',\n",
       "  'to',\n",
       "  'ease',\n",
       "  'indigestion',\n",
       "  'in',\n",
       "  '1444',\n",
       "  '.'],\n",
       " ['under',\n",
       "  'conditions',\n",
       "  'of',\n",
       "  'high',\n",
       "  'humidity',\n",
       "  ',',\n",
       "  'the',\n",
       "  'rate',\n",
       "  'of',\n",
       "  'evaporation',\n",
       "  'of',\n",
       "  'sweat',\n",
       "  'from',\n",
       "  'the',\n",
       "  'skin',\n",
       "  'decreases',\n",
       "  '.'],\n",
       " ['frederick',\n",
       "  'married',\n",
       "  'princess',\n",
       "  'victoria',\n",
       "  ',',\n",
       "  'eldest',\n",
       "  'daughter',\n",
       "  'of',\n",
       "  'queen',\n",
       "  'victoria',\n",
       "  'of',\n",
       "  'the',\n",
       "  'united',\n",
       "  'kingdom',\n",
       "  '.']]"
      ]
     },
     "execution_count": 13,
     "metadata": {},
     "output_type": "execute_result"
    }
   ],
   "source": [
    "tokenized1[:10]"
   ]
  },
  {
   "cell_type": "code",
   "execution_count": 14,
   "metadata": {
    "collapsed": true
   },
   "outputs": [],
   "source": [
    "# delete punctuations\n",
    "\n",
    "#tuniqcompl=[[word for word in sentence if word not in string.punctuation] for sentence in tokenized1]\n",
    "#tuniqsimpl=[[word for word in sentence if word not in string.punctuation] for sentence in tokenized2]"
   ]
  },
  {
   "cell_type": "code",
   "execution_count": 15,
   "metadata": {
    "collapsed": true
   },
   "outputs": [],
   "source": [
    "tuniqcompl = tokenized1\n",
    "tuniqsimpl = tokenized2"
   ]
  },
  {
   "cell_type": "code",
   "execution_count": 16,
   "metadata": {},
   "outputs": [
    {
     "data": {
      "text/plain": [
       "['frederick',\n",
       " 'married',\n",
       " 'princess',\n",
       " 'victoria',\n",
       " ',',\n",
       " 'eldest',\n",
       " 'daughter',\n",
       " 'of',\n",
       " 'queen',\n",
       " 'victoria',\n",
       " 'of',\n",
       " 'the',\n",
       " 'united',\n",
       " 'kingdom',\n",
       " '.']"
      ]
     },
     "execution_count": 16,
     "metadata": {},
     "output_type": "execute_result"
    }
   ],
   "source": [
    "tuniqcompl[9]"
   ]
  },
  {
   "cell_type": "code",
   "execution_count": 17,
   "metadata": {},
   "outputs": [
    {
     "data": {
      "text/plain": [
       "15"
      ]
     },
     "execution_count": 17,
     "metadata": {},
     "output_type": "execute_result"
    }
   ],
   "source": [
    "len(tuniqcompl[9])"
   ]
  },
  {
   "cell_type": "code",
   "execution_count": 18,
   "metadata": {},
   "outputs": [
    {
     "data": {
      "text/plain": [
       "['on',\n",
       " '25',\n",
       " 'january',\n",
       " '1858',\n",
       " 'he',\n",
       " 'married',\n",
       " 'princess',\n",
       " 'victoria',\n",
       " 'of',\n",
       " 'the',\n",
       " 'united',\n",
       " 'kingdom',\n",
       " ',',\n",
       " 'eldest',\n",
       " 'child',\n",
       " 'of',\n",
       " 'queen',\n",
       " 'victoria',\n",
       " 'and',\n",
       " 'albert',\n",
       " 'the',\n",
       " 'prince',\n",
       " 'consort',\n",
       " '.']"
      ]
     },
     "execution_count": 18,
     "metadata": {},
     "output_type": "execute_result"
    }
   ],
   "source": [
    "tuniqsimpl[9]"
   ]
  },
  {
   "cell_type": "code",
   "execution_count": 19,
   "metadata": {},
   "outputs": [
    {
     "data": {
      "text/plain": [
       "24"
      ]
     },
     "execution_count": 19,
     "metadata": {},
     "output_type": "execute_result"
    }
   ],
   "source": [
    "len(tuniqsimpl[9])"
   ]
  },
  {
   "cell_type": "code",
   "execution_count": 97,
   "metadata": {
    "collapsed": true
   },
   "outputs": [],
   "source": [
    "def del_larger_simples(complex_sentences, simple_sentences, perc_threshold_for_no_of_words):\n",
    "    lcomp=[]\n",
    "    lsimp=[]\n",
    "    for comp, simp in zip(complex_sentences, simple_sentences):\n",
    "        if len(simp)/len(comp) <= perc_threshold_for_no_of_words:\n",
    "            lcomp.append(comp)\n",
    "            lsimp.append(simp)\n",
    "    return lsimp, lcomp"
   ]
  },
  {
   "cell_type": "code",
   "execution_count": 98,
   "metadata": {
    "collapsed": true
   },
   "outputs": [],
   "source": [
    "compl_without_ls, simpl_without_ls = del_larger_simples(tuniqcompl, tuniqsimpl, 1.5)"
   ]
  },
  {
   "cell_type": "code",
   "execution_count": 99,
   "metadata": {},
   "outputs": [
    {
     "data": {
      "text/plain": [
       "228739"
      ]
     },
     "execution_count": 99,
     "metadata": {},
     "output_type": "execute_result"
    }
   ],
   "source": [
    "len(compl_without_ls)"
   ]
  },
  {
   "cell_type": "code",
   "execution_count": 100,
   "metadata": {},
   "outputs": [
    {
     "data": {
      "text/plain": [
       "228739"
      ]
     },
     "execution_count": 100,
     "metadata": {},
     "output_type": "execute_result"
    }
   ],
   "source": [
    "len(simpl_without_ls)"
   ]
  },
  {
   "cell_type": "code",
   "execution_count": 20,
   "metadata": {
    "collapsed": true
   },
   "outputs": [],
   "source": [
    "def del_larger_sent(complex_sentences, simple_sentences, threshold_for_no_of_words):\n",
    "    lcomp=[]\n",
    "    lsimp=[]\n",
    "    for comp, simp in zip(complex_sentences, simple_sentences):\n",
    "        if len(simp) and len(comp) <= threshold_for_no_of_words:\n",
    "            lcomp.append(comp)\n",
    "            lsimp.append(simp)\n",
    "    return lsimp, lcomp"
   ]
  },
  {
   "cell_type": "code",
   "execution_count": 21,
   "metadata": {
    "collapsed": true
   },
   "outputs": [],
   "source": [
    "compl_without_lsen, simpl_without_lsen = del_larger_sent(tuniqcompl, tuniqsimpl, 50)"
   ]
  },
  {
   "cell_type": "code",
   "execution_count": 22,
   "metadata": {},
   "outputs": [
    {
     "data": {
      "text/plain": [
       "233502"
      ]
     },
     "execution_count": 22,
     "metadata": {},
     "output_type": "execute_result"
    }
   ],
   "source": [
    "len(compl_without_lsen)"
   ]
  },
  {
   "cell_type": "code",
   "execution_count": 23,
   "metadata": {},
   "outputs": [
    {
     "data": {
      "text/plain": [
       "233502"
      ]
     },
     "execution_count": 23,
     "metadata": {},
     "output_type": "execute_result"
    }
   ],
   "source": [
    "len(simpl_without_lsen)"
   ]
  },
  {
   "cell_type": "code",
   "execution_count": 101,
   "metadata": {
    "scrolled": true
   },
   "outputs": [
    {
     "data": {
      "text/plain": [
       "[['armenian',\n",
       "  'monk',\n",
       "  'gregory',\n",
       "  'of',\n",
       "  'nicopolis',\n",
       "  '(',\n",
       "  'gregory',\n",
       "  'makar',\n",
       "  ')',\n",
       "  '(',\n",
       "  'grégoire',\n",
       "  'de',\n",
       "  'nicopolis',\n",
       "  ')',\n",
       "  'brought',\n",
       "  'ginger',\n",
       "  'bread',\n",
       "  'to',\n",
       "  'europe',\n",
       "  'in',\n",
       "  '992',\n",
       "  '.'],\n",
       " ['the',\n",
       "  'custom',\n",
       "  'was',\n",
       "  'to',\n",
       "  'bake',\n",
       "  'white',\n",
       "  'biscuits',\n",
       "  'and',\n",
       "  'paint',\n",
       "  'them',\n",
       "  'as',\n",
       "  'window',\n",
       "  'decorations',\n",
       "  '.'],\n",
       " ['german',\n",
       "  'immigrants',\n",
       "  'brought',\n",
       "  'it',\n",
       "  'to',\n",
       "  'sweden',\n",
       "  'during',\n",
       "  'the',\n",
       "  '13th',\n",
       "  'century',\n",
       "  '.'],\n",
       " ['after',\n",
       "  ',',\n",
       "  'it',\n",
       "  'was',\n",
       "  'a',\n",
       "  'confection',\n",
       "  'made',\n",
       "  'with',\n",
       "  'honey',\n",
       "  'and',\n",
       "  'spices',\n",
       "  '.'],\n",
       " ['records',\n",
       "  'show',\n",
       "  'that',\n",
       "  'gingerbread',\n",
       "  'biscuits',\n",
       "  'were',\n",
       "  'sold',\n",
       "  'in',\n",
       "  'monasteries',\n",
       "  ',',\n",
       "  'pharmacies',\n",
       "  'and',\n",
       "  'town',\n",
       "  'square',\n",
       "  'farmers',\n",
       "  \"'\",\n",
       "  'markets',\n",
       "  'in',\n",
       "  'the',\n",
       "  '16th',\n",
       "  'century',\n",
       "  '.']]"
      ]
     },
     "execution_count": 101,
     "metadata": {},
     "output_type": "execute_result"
    }
   ],
   "source": [
    "compl_without_ls[:5]"
   ]
  },
  {
   "cell_type": "code",
   "execution_count": 102,
   "metadata": {
    "scrolled": true
   },
   "outputs": [
    {
     "data": {
      "text/plain": [
       "[['gingerbread',\n",
       "  'was',\n",
       "  'brought',\n",
       "  'to',\n",
       "  'europe',\n",
       "  'in',\n",
       "  '992',\n",
       "  'by',\n",
       "  'the',\n",
       "  'armenian',\n",
       "  'monk',\n",
       "  'gregory',\n",
       "  'of',\n",
       "  'nicopolis',\n",
       "  '(',\n",
       "  'gregory',\n",
       "  'makar',\n",
       "  ')',\n",
       "  '(',\n",
       "  'grégoire',\n",
       "  'de',\n",
       "  'nicopolis',\n",
       "  ')',\n",
       "  '.'],\n",
       " ['it',\n",
       "  'was',\n",
       "  'the',\n",
       "  'custom',\n",
       "  'to',\n",
       "  'bake',\n",
       "  'white',\n",
       "  'biscuits',\n",
       "  'and',\n",
       "  'paint',\n",
       "  'them',\n",
       "  'as',\n",
       "  'window',\n",
       "  'decorations',\n",
       "  '.'],\n",
       " ['during',\n",
       "  'the',\n",
       "  '13th',\n",
       "  'century',\n",
       "  ',',\n",
       "  'gingerbread',\n",
       "  'was',\n",
       "  'brought',\n",
       "  'to',\n",
       "  'sweden',\n",
       "  'by',\n",
       "  'german',\n",
       "  'immigrants',\n",
       "  '.'],\n",
       " ['it',\n",
       "  'then',\n",
       "  'referred',\n",
       "  'to',\n",
       "  'a',\n",
       "  'confection',\n",
       "  'made',\n",
       "  'with',\n",
       "  'honey',\n",
       "  'and',\n",
       "  'spices',\n",
       "  '.'],\n",
       " ['the',\n",
       "  'first',\n",
       "  'documented',\n",
       "  'trade',\n",
       "  'of',\n",
       "  'gingerbread',\n",
       "  'biscuits',\n",
       "  'dates',\n",
       "  'to',\n",
       "  'the',\n",
       "  '17th',\n",
       "  'century',\n",
       "  ',',\n",
       "  'where',\n",
       "  'they',\n",
       "  'were',\n",
       "  'sold',\n",
       "  'in',\n",
       "  'monasteries',\n",
       "  ',',\n",
       "  'pharmacies',\n",
       "  'and',\n",
       "  'town',\n",
       "  'square',\n",
       "  'farmers',\n",
       "  \"'\",\n",
       "  'markets',\n",
       "  '.']]"
      ]
     },
     "execution_count": 102,
     "metadata": {},
     "output_type": "execute_result"
    }
   ],
   "source": [
    "simpl_without_ls[:5]"
   ]
  },
  {
   "cell_type": "code",
   "execution_count": 103,
   "metadata": {
    "collapsed": true
   },
   "outputs": [],
   "source": [
    "def write_to_file(processed_text, output_file):\n",
    "    output = open(output_file, 'wb')\n",
    "    pickle.dump(processed_text, output)"
   ]
  },
  {
   "cell_type": "code",
   "execution_count": 104,
   "metadata": {
    "collapsed": true
   },
   "outputs": [],
   "source": [
    "write_to_file(compl_without_ls, 'preprocessing/complex_preprocessed')\n",
    "write_to_file(simpl_without_ls, 'preprocessing/simple_preprocessed')"
   ]
  },
  {
   "cell_type": "code",
   "execution_count": null,
   "metadata": {
    "collapsed": true
   },
   "outputs": [],
   "source": []
  },
  {
   "cell_type": "code",
   "execution_count": null,
   "metadata": {
    "collapsed": true
   },
   "outputs": [],
   "source": [
    "# erneuter Zugriff auf pickle data mit: pickle.load(file)\n",
    "# s. word2vec.simplify.ipynb"
   ]
  }
 ],
 "metadata": {
  "kernelspec": {
   "display_name": "Python 3",
   "language": "python",
   "name": "python3"
  },
  "language_info": {
   "codemirror_mode": {
    "name": "ipython",
    "version": 3
   },
   "file_extension": ".py",
   "mimetype": "text/x-python",
   "name": "python",
   "nbconvert_exporter": "python",
   "pygments_lexer": "ipython3",
   "version": "3.6.5"
  }
 },
 "nbformat": 4,
 "nbformat_minor": 2
}
