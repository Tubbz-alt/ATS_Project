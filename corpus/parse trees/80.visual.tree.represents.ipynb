{
 "cells": [
  {
   "cell_type": "code",
   "execution_count": 15,
   "metadata": {
    "collapsed": true
   },
   "outputs": [],
   "source": [
    "import nltk\n",
    "from nltk.tree import *\n",
    "from nltk.draw.tree import TreeView\n",
    "import glob\n",
    "import subprocess"
   ]
  },
  {
   "cell_type": "code",
   "execution_count": 16,
   "metadata": {
    "collapsed": true
   },
   "outputs": [],
   "source": [
    "f = open(\"train.80.en.tree\")\n",
    "en_trees = f.read().split(\"\\n\\n\")"
   ]
  },
  {
   "cell_type": "code",
   "execution_count": null,
   "metadata": {
    "collapsed": true
   },
   "outputs": [],
   "source": []
  },
  {
   "cell_type": "code",
   "execution_count": 17,
   "metadata": {},
   "outputs": [
    {
     "data": {
      "text/plain": [
       "'(ROOT  (S    (NP (PRP He))    (VP (VBD died)      (PP (IN in)        (NP (CD 999))))    (. .)))'"
      ]
     },
     "execution_count": 17,
     "metadata": {},
     "output_type": "execute_result"
    }
   ],
   "source": [
    "en_trees =[tree.replace('\\n','') for tree in en_trees]\n",
    "en_trees[0]"
   ]
  },
  {
   "cell_type": "code",
   "execution_count": 18,
   "metadata": {
    "scrolled": true
   },
   "outputs": [
    {
     "data": {
      "image/png": "[encoded data removed]",
      "text/plain": [
       "Tree('ROOT', [Tree('S', [Tree('NP', [Tree('PRP', ['He'])]), Tree('VP', [Tree('VBD', ['died']), Tree('PP', [Tree('IN', ['in']), Tree('NP', [Tree('CD', ['999'])])])]), Tree('.', ['.'])])])"
      ]
     },
     "execution_count": 18,
     "metadata": {},
     "output_type": "execute_result"
    }
   ],
   "source": [
    "tree = Tree.fromstring(en_trees[0])\n",
    "tree"
   ]
  },
  {
   "cell_type": "code",
   "execution_count": 19,
   "metadata": {},
   "outputs": [],
   "source": [
    "i = 1\n",
    "for tree in en_trees[:20]:\n",
    "    t = Tree.fromstring(tree)\n",
    "    TreeView(t)._cframe.print_to_file('tree'+str(i)+'.ps')\n",
    "    i += 1"
   ]
  },
  {
   "cell_type": "code",
   "execution_count": 20,
   "metadata": {},
   "outputs": [
    {
     "data": {
      "text/plain": [
       "['tree19.ps',\n",
       " 'tree7.ps',\n",
       " 'tree3.ps',\n",
       " 'tree2.ps',\n",
       " 'tree18.ps',\n",
       " 'tree6.ps',\n",
       " 'tree13.ps',\n",
       " 'tree17.ps',\n",
       " 'tree9.ps',\n",
       " 'tree16.ps']"
      ]
     },
     "execution_count": 20,
     "metadata": {},
     "output_type": "execute_result"
    }
   ],
   "source": [
    "list = glob.glob('*.ps')\n",
    "list[:10]"
   ]
  },
  {
   "cell_type": "code",
   "execution_count": 21,
   "metadata": {
    "collapsed": true
   },
   "outputs": [],
   "source": [
    "for file in list:\n",
    "    root = file[:-2]\n",
    "    #pngfile = root + 'png'\n",
    "    pdffile = root + 'pdf'\n",
    "    subprocess.call('convert ' + file + ' ' + pdffile, shell=True)"
   ]
  },
  {
   "cell_type": "code",
   "execution_count": null,
   "metadata": {
    "collapsed": true
   },
   "outputs": [],
   "source": []
  },
  {
   "cell_type": "code",
   "execution_count": null,
   "metadata": {
    "collapsed": true
   },
   "outputs": [],
   "source": []
  },
  {
   "cell_type": "code",
   "execution_count": null,
   "metadata": {
    "collapsed": true
   },
   "outputs": [],
   "source": []
  }
 ],
 "metadata": {
  "kernelspec": {
   "display_name": "Python 3",
   "language": "python",
   "name": "python3"
  },
  "language_info": {
   "codemirror_mode": {
    "name": "ipython",
    "version": 3
   },
   "file_extension": ".py",
   "mimetype": "text/x-python",
   "name": "python",
   "nbconvert_exporter": "python",
   "pygments_lexer": "ipython3",
   "version": "3.6.2"
  }
 },
 "nbformat": 4,
 "nbformat_minor": 2
}
