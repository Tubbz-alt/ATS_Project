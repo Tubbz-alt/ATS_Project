{
 "cells": [
  {
   "cell_type": "code",
   "execution_count": 3,
   "metadata": {},
   "outputs": [],
   "source": [
    "import gensim\n",
    "import pandas as pd\n",
    "import numpy as np\n",
    "%matplotlib inline"
   ]
  },
  {
   "cell_type": "code",
   "execution_count": 2,
   "metadata": {},
   "outputs": [
    {
     "name": "stdout",
     "output_type": "stream",
     "text": [
      "Data was read\n",
      "flatten took: 0.032552242279052734\n",
      "set creation took 0.029610633850097656s\n",
      "Idf dict creation took: 23.95618176460266\n",
      "iter: 0\n",
      "iter: 1\n",
      "iter: 2\n",
      "iter: 3\n",
      "Took: 0.40012335777282715\n",
      "idf feature creation took: 0.5442724227905273\n",
      "features took: 0.9423372745513916\n"
     ]
    }
   ],
   "source": [
    "train_data = ComplexSimple(word2vec=Word2Vec())\n",
    "train_data.open_file(mode=\"train\", method='labeled')\n",
    "\n",
    "x1_1, x1_2, y1, features1 = train_data.next_batch(batch_size=128)\n",
    "\n",
    "train_data = WikiQA(word2vec=Word2Vec())\n",
    "train_data.open_file(mode=\"train\")\n",
    "\n",
    "x2_1, x2_2, y2, features2 = train_data.next_batch(batch_size=128)"
   ]
  },
  {
   "cell_type": "code",
   "execution_count": 5,
   "metadata": {},
   "outputs": [],
   "source": [
    "model = gensim.models.KeyedVectors.load_word2vec_format('./GoogleNews-vectors-negative300.bin',\n",
    "                                                                     binary=True)"
   ]
  },
  {
   "cell_type": "code",
   "execution_count": null,
   "metadata": {},
   "outputs": [],
   "source": []
  }
 ],
 "metadata": {
  "kernelspec": {
   "display_name": "Python [default]",
   "language": "python",
   "name": "python3"
  },
  "language_info": {
   "codemirror_mode": {
    "name": "ipython",
    "version": 3
   },
   "file_extension": ".py",
   "mimetype": "text/x-python",
   "name": "python",
   "nbconvert_exporter": "python",
   "pygments_lexer": "ipython3",
   "version": "3.6.2"
  }
 },
 "nbformat": 4,
 "nbformat_minor": 2
}
