{
 "cells": [
  {
   "cell_type": "code",
   "execution_count": 3,
   "metadata": {},
   "outputs": [],
   "source": [
    "import pandas as pd\n",
    "import numpy as np\n",
    "from nltk.tokenize import word_tokenize\n",
    "import string\n",
    "\n",
    "import pickle"
   ]
  },
  {
   "cell_type": "code",
   "execution_count": 4,
   "metadata": {},
   "outputs": [],
   "source": [
    "f = open(\"corpus/wiki_complex_train.txt\", encoding=\"utf8\")\n",
    "compl = f.read().split(\"\\n\")"
   ]
  },
  {
   "cell_type": "code",
   "execution_count": 5,
   "metadata": {},
   "outputs": [],
   "source": [
    "f = open(\"corpus/wiki_simple_train.txt\", encoding=\"utf8\")\n",
    "simpl = f.read().split(\"\\n\")"
   ]
  },
  {
   "cell_type": "code",
   "execution_count": 6,
   "metadata": {},
   "outputs": [],
   "source": [
    "cosi = pd.DataFrame(np.column_stack([compl,  simpl]), columns=['complex', 'simple'])"
   ]
  },
  {
   "cell_type": "code",
   "execution_count": 7,
   "metadata": {},
   "outputs": [],
   "source": [
    "import matplotlib.pyplot as plt\n",
    "%matplotlib inline"
   ]
  },
  {
   "cell_type": "code",
   "execution_count": 8,
   "metadata": {},
   "outputs": [
    {
     "ename": "NameError",
     "evalue": "name 'counts' is not defined",
     "output_type": "error",
     "traceback": [
      "\u001b[1;31m---------------------------------------------------------------------------\u001b[0m",
      "\u001b[1;31mNameError\u001b[0m                                 Traceback (most recent call last)",
      "\u001b[1;32m<ipython-input-8-2f8e4f7c1b6e>\u001b[0m in \u001b[0;36m<module>\u001b[1;34m()\u001b[0m\n\u001b[0;32m      1\u001b[0m \u001b[1;33m\u001b[0m\u001b[0m\n\u001b[0;32m      2\u001b[0m \u001b[0mplt\u001b[0m\u001b[1;33m.\u001b[0m\u001b[0mfigure\u001b[0m\u001b[1;33m(\u001b[0m\u001b[0mfigsize\u001b[0m\u001b[1;33m=\u001b[0m\u001b[1;33m(\u001b[0m\u001b[1;36m16\u001b[0m\u001b[1;33m,\u001b[0m \u001b[1;36m10\u001b[0m\u001b[1;33m)\u001b[0m\u001b[1;33m)\u001b[0m\u001b[1;33m\u001b[0m\u001b[0m\n\u001b[1;32m----> 3\u001b[1;33m \u001b[0mplt\u001b[0m\u001b[1;33m.\u001b[0m\u001b[0mbar\u001b[0m\u001b[1;33m(\u001b[0m\u001b[0mlist\u001b[0m\u001b[1;33m(\u001b[0m\u001b[0mcounts\u001b[0m\u001b[1;33m.\u001b[0m\u001b[0mkeys\u001b[0m\u001b[1;33m(\u001b[0m\u001b[1;33m)\u001b[0m\u001b[1;33m)\u001b[0m\u001b[1;33m,\u001b[0m \u001b[0mcounts\u001b[0m\u001b[1;33m.\u001b[0m\u001b[0mvalues\u001b[0m\u001b[1;33m(\u001b[0m\u001b[1;33m)\u001b[0m\u001b[1;33m,\u001b[0m \u001b[0mcolor\u001b[0m\u001b[1;33m=\u001b[0m\u001b[1;34m'g'\u001b[0m\u001b[1;33m)\u001b[0m\u001b[1;33m\u001b[0m\u001b[0m\n\u001b[0m\u001b[0;32m      4\u001b[0m \u001b[0mplt\u001b[0m\u001b[1;33m.\u001b[0m\u001b[0mshow\u001b[0m\u001b[1;33m(\u001b[0m\u001b[1;33m)\u001b[0m\u001b[1;33m\u001b[0m\u001b[0m\n",
      "\u001b[1;31mNameError\u001b[0m: name 'counts' is not defined"
     ]
    },
    {
     "data": {
      "text/plain": [
       "<matplotlib.figure.Figure at 0x142d18f86d8>"
      ]
     },
     "metadata": {},
     "output_type": "display_data"
    }
   ],
   "source": [
    "\n",
    "plt.figure(figsize=(16, 10))\n",
    "plt.bar(list(counts.keys()), counts.values(), color='g')\n",
    "plt.show()"
   ]
  },
  {
   "cell_type": "code",
   "execution_count": null,
   "metadata": {},
   "outputs": [],
   "source": []
  },
  {
   "cell_type": "code",
   "execution_count": 9,
   "metadata": {},
   "outputs": [
    {
     "data": {
      "text/plain": [
       "190259"
      ]
     },
     "execution_count": 9,
     "metadata": {},
     "output_type": "execute_result"
    }
   ],
   "source": [
    "uniqcosi = cosi[cosi['complex'] != cosi['simple']]\n",
    "len(uniqcosi)"
   ]
  },
  {
   "cell_type": "code",
   "execution_count": 10,
   "metadata": {},
   "outputs": [],
   "source": [
    "uniqcompl = list(uniqcosi['complex'].values)\n",
    "uniqsimpl = list(uniqcosi['simple'].values)"
   ]
  },
  {
   "cell_type": "code",
   "execution_count": null,
   "metadata": {},
   "outputs": [],
   "source": []
  },
  {
   "cell_type": "code",
   "execution_count": 11,
   "metadata": {},
   "outputs": [],
   "source": [
    "luniqcompl = [str(descr).lower() for descr in uniqcompl]\n",
    "luniqsimpl = [str(descr).lower() for descr in uniqsimpl]"
   ]
  },
  {
   "cell_type": "code",
   "execution_count": null,
   "metadata": {},
   "outputs": [],
   "source": []
  },
  {
   "cell_type": "code",
   "execution_count": 12,
   "metadata": {},
   "outputs": [],
   "source": [
    "def tokenize_corpus(corpus):\n",
    "\ttokenized_corpus = []\n",
    "\tfor sentence in corpus:\n",
    "\t\ttokenized_corpus.append(word_tokenize(sentence))\n",
    "\treturn tokenized_corpus"
   ]
  },
  {
   "cell_type": "code",
   "execution_count": 13,
   "metadata": {},
   "outputs": [],
   "source": [
    "tokenized1 = tokenize_corpus(luniqcompl)\n",
    "tokenized2 = tokenize_corpus(luniqsimpl)"
   ]
  },
  {
   "cell_type": "code",
   "execution_count": 30,
   "metadata": {},
   "outputs": [],
   "source": [
    "counts = {i:0 for i in range(479)}\n",
    "for sent in tokenized1:\n",
    "    try:\n",
    "        counts[len(sent)] += 1\n",
    "    except:\n",
    "        continue"
   ]
  },
  {
   "cell_type": "code",
   "execution_count": 33,
   "metadata": {},
   "outputs": [
    {
     "data": {
      "text/plain": [
       "190259"
      ]
     },
     "execution_count": 33,
     "metadata": {},
     "output_type": "execute_result"
    }
   ],
   "source": [
    "len(tokenized1)"
   ]
  },
  {
   "cell_type": "code",
   "execution_count": 34,
   "metadata": {},
   "outputs": [
    {
     "name": "stdout",
     "output_type": "stream",
     "text": [
      "11310\n"
     ]
    }
   ],
   "source": [
    "i = 0\n",
    "for j in range(50, 479):\n",
    "    i += counts[j]\n",
    "print(i)"
   ]
  },
  {
   "cell_type": "code",
   "execution_count": 35,
   "metadata": {},
   "outputs": [
    {
     "name": "stdout",
     "output_type": "stream",
     "text": [
      "178949\n"
     ]
    }
   ],
   "source": [
    "i = 0\n",
    "for j in range(0, 50):\n",
    "    i += counts[j]\n",
    "print(i)"
   ]
  },
  {
   "cell_type": "code",
   "execution_count": 21,
   "metadata": {
    "scrolled": true
   },
   "outputs": [
    {
     "data": {
      "image/png": "[encoded data removed]",
      "text/plain": [
       "<matplotlib.figure.Figure at 0x142f8741a20>"
      ]
     },
     "metadata": {},
     "output_type": "display_data"
    }
   ],
   "source": [
    "\n",
    "plt.figure(figsize=(16, 10))\n",
    "plt.bar(list(counts.keys()), counts.values(), color='g')\n",
    "plt.show()"
   ]
  },
  {
   "cell_type": "code",
   "execution_count": 41,
   "metadata": {},
   "outputs": [],
   "source": [
    "import gensim\n",
    "class Word2Vec():\n",
    "    def __init__(self):\n",
    "        # Load Google's pre-trained Word2Vec model.\n",
    "        self.model = gensim.models.KeyedVectors.load_word2vec_format('ourABCNN/GoogleNews-vectors-negative300.bin',\n",
    "                                                                     binary=True)\n",
    "        self.unknowns = np.random.uniform(-0.01, 0.01, 300).astype(\"float32\")\n",
    "\n",
    "    def get(self, word):\n",
    "        if word not in self.model.vocab:\n",
    "            return self.unknowns\n",
    "        else:\n",
    "            return self.model.word_vec(word)\n",
    "        \n",
    "    def cntUnknowns(self, sentence):\n",
    "        cnt = 0\n",
    "        for w in sentence:\n",
    "            if w not in self.model.vocab:\n",
    "                cnt += 1\n",
    "        return cnt"
   ]
  },
  {
   "cell_type": "code",
   "execution_count": 42,
   "metadata": {},
   "outputs": [
    {
     "ename": "NameError",
     "evalue": "name 'word' is not defined",
     "output_type": "error",
     "traceback": [
      "\u001b[1;31m---------------------------------------------------------------------------\u001b[0m",
      "\u001b[1;31mNameError\u001b[0m                                 Traceback (most recent call last)",
      "\u001b[1;32m<ipython-input-42-e9aa6b5ce8c4>\u001b[0m in \u001b[0;36m<module>\u001b[1;34m()\u001b[0m\n\u001b[0;32m      2\u001b[0m \u001b[0mi\u001b[0m \u001b[1;33m=\u001b[0m \u001b[1;36m0\u001b[0m\u001b[1;33m\u001b[0m\u001b[0m\n\u001b[0;32m      3\u001b[0m \u001b[1;32mfor\u001b[0m \u001b[0ms\u001b[0m \u001b[1;32min\u001b[0m \u001b[0mtokenized1\u001b[0m\u001b[1;33m:\u001b[0m\u001b[1;33m\u001b[0m\u001b[0m\n\u001b[1;32m----> 4\u001b[1;33m     \u001b[1;32mif\u001b[0m \u001b[0mw\u001b[0m\u001b[1;33m.\u001b[0m\u001b[0mcntUnknowns\u001b[0m\u001b[1;33m(\u001b[0m\u001b[0ms\u001b[0m\u001b[1;33m)\u001b[0m \u001b[1;33m>\u001b[0m \u001b[0mlen\u001b[0m\u001b[1;33m(\u001b[0m\u001b[0ms\u001b[0m\u001b[1;33m)\u001b[0m\u001b[1;33m/\u001b[0m\u001b[1;36m3\u001b[0m\u001b[1;33m:\u001b[0m\u001b[1;33m\u001b[0m\u001b[0m\n\u001b[0m\u001b[0;32m      5\u001b[0m         \u001b[0mi\u001b[0m \u001b[1;33m+=\u001b[0m\u001b[1;36m1\u001b[0m\u001b[1;33m\u001b[0m\u001b[0m\n",
      "\u001b[1;32m<ipython-input-41-773ef95958cd>\u001b[0m in \u001b[0;36mcntUnknowns\u001b[1;34m(self, sentence)\u001b[0m\n\u001b[0;32m     16\u001b[0m         \u001b[0mcnt\u001b[0m \u001b[1;33m=\u001b[0m \u001b[1;36m0\u001b[0m\u001b[1;33m\u001b[0m\u001b[0m\n\u001b[0;32m     17\u001b[0m         \u001b[1;32mfor\u001b[0m \u001b[0mw\u001b[0m \u001b[1;32min\u001b[0m \u001b[0msentence\u001b[0m\u001b[1;33m:\u001b[0m\u001b[1;33m\u001b[0m\u001b[0m\n\u001b[1;32m---> 18\u001b[1;33m             \u001b[1;32mif\u001b[0m \u001b[0mword\u001b[0m \u001b[1;32mnot\u001b[0m \u001b[1;32min\u001b[0m \u001b[0mself\u001b[0m\u001b[1;33m.\u001b[0m\u001b[0mmodel\u001b[0m\u001b[1;33m.\u001b[0m\u001b[0mvocab\u001b[0m\u001b[1;33m:\u001b[0m\u001b[1;33m\u001b[0m\u001b[0m\n\u001b[0m\u001b[0;32m     19\u001b[0m                 \u001b[0mcnt\u001b[0m \u001b[1;33m+=\u001b[0m \u001b[1;36m1\u001b[0m\u001b[1;33m\u001b[0m\u001b[0m\n\u001b[0;32m     20\u001b[0m         \u001b[1;32mreturn\u001b[0m \u001b[0mcnt\u001b[0m\u001b[1;33m\u001b[0m\u001b[0m\n",
      "\u001b[1;31mNameError\u001b[0m: name 'word' is not defined"
     ]
    }
   ],
   "source": [
    "w = Word2Vec()\n",
    "i = 0\n",
    "for s in tokenized1:\n",
    "    if w.cntUnknowns(s) > len(s)/3:\n",
    "        i +=1"
   ]
  },
  {
   "cell_type": "code",
   "execution_count": null,
   "metadata": {},
   "outputs": [],
   "source": [
    "print(i)"
   ]
  },
  {
   "cell_type": "code",
   "execution_count": null,
   "metadata": {},
   "outputs": [],
   "source": []
  },
  {
   "cell_type": "code",
   "execution_count": 90,
   "metadata": {
    "scrolled": false
   },
   "outputs": [
    {
     "data": {
      "text/plain": [
       "[['gingerbread',\n",
       "  'was',\n",
       "  'brought',\n",
       "  'to',\n",
       "  'europe',\n",
       "  'in',\n",
       "  '992',\n",
       "  'by',\n",
       "  'the',\n",
       "  'armenian',\n",
       "  'monk',\n",
       "  'gregory',\n",
       "  'of',\n",
       "  'nicopolis',\n",
       "  '(',\n",
       "  'gregory',\n",
       "  'makar',\n",
       "  ')',\n",
       "  '(',\n",
       "  'grégoire',\n",
       "  'de',\n",
       "  'nicopolis',\n",
       "  ')',\n",
       "  '.'],\n",
       " ['it',\n",
       "  'was',\n",
       "  'the',\n",
       "  'custom',\n",
       "  'to',\n",
       "  'bake',\n",
       "  'white',\n",
       "  'biscuits',\n",
       "  'and',\n",
       "  'paint',\n",
       "  'them',\n",
       "  'as',\n",
       "  'window',\n",
       "  'decorations',\n",
       "  '.'],\n",
       " ['during',\n",
       "  'the',\n",
       "  '13th',\n",
       "  'century',\n",
       "  ',',\n",
       "  'gingerbread',\n",
       "  'was',\n",
       "  'brought',\n",
       "  'to',\n",
       "  'sweden',\n",
       "  'by',\n",
       "  'german',\n",
       "  'immigrants',\n",
       "  '.'],\n",
       " ['it',\n",
       "  'then',\n",
       "  'referred',\n",
       "  'to',\n",
       "  'a',\n",
       "  'confection',\n",
       "  'made',\n",
       "  'with',\n",
       "  'honey',\n",
       "  'and',\n",
       "  'spices',\n",
       "  '.'],\n",
       " ['the',\n",
       "  'first',\n",
       "  'documented',\n",
       "  'trade',\n",
       "  'of',\n",
       "  'gingerbread',\n",
       "  'biscuits',\n",
       "  'dates',\n",
       "  'to',\n",
       "  'the',\n",
       "  '17th',\n",
       "  'century',\n",
       "  ',',\n",
       "  'where',\n",
       "  'they',\n",
       "  'were',\n",
       "  'sold',\n",
       "  'in',\n",
       "  'monasteries',\n",
       "  ',',\n",
       "  'pharmacies',\n",
       "  'and',\n",
       "  'town',\n",
       "  'square',\n",
       "  'farmers',\n",
       "  \"'\",\n",
       "  'markets',\n",
       "  '.'],\n",
       " ['he',\n",
       "  'left',\n",
       "  'nicopolis',\n",
       "  'pompeii',\n",
       "  ',',\n",
       "  'to',\n",
       "  'live',\n",
       "  'in',\n",
       "  'bondaroy',\n",
       "  '(',\n",
       "  'france',\n",
       "  ')',\n",
       "  ',',\n",
       "  'near',\n",
       "  'the',\n",
       "  'town',\n",
       "  'of',\n",
       "  'pithiviers',\n",
       "  '.'],\n",
       " ['originally',\n",
       "  ',',\n",
       "  'the',\n",
       "  'term',\n",
       "  'gingerbread',\n",
       "  '(',\n",
       "  'from',\n",
       "  'latin',\n",
       "  'zingiber',\n",
       "  'via',\n",
       "  'old',\n",
       "  'french',\n",
       "  'gingebras',\n",
       "  ')',\n",
       "  'referred',\n",
       "  'to',\n",
       "  'preserved',\n",
       "  'ginger',\n",
       "  '.'],\n",
       " ['early',\n",
       "  'references',\n",
       "  'from',\n",
       "  'the',\n",
       "  'vadstena',\n",
       "  'abbey',\n",
       "  'show',\n",
       "  'how',\n",
       "  'the',\n",
       "  'swedish',\n",
       "  'nuns',\n",
       "  'were',\n",
       "  'baking',\n",
       "  'gingerbread',\n",
       "  'to',\n",
       "  'ease',\n",
       "  'indigestion',\n",
       "  'in',\n",
       "  '1444',\n",
       "  '.'],\n",
       " ['under',\n",
       "  'conditions',\n",
       "  'of',\n",
       "  'high',\n",
       "  'humidity',\n",
       "  ',',\n",
       "  'the',\n",
       "  'rate',\n",
       "  'of',\n",
       "  'evaporation',\n",
       "  'of',\n",
       "  'sweat',\n",
       "  'from',\n",
       "  'the',\n",
       "  'skin',\n",
       "  'decreases',\n",
       "  '.'],\n",
       " ['frederick',\n",
       "  'married',\n",
       "  'princess',\n",
       "  'victoria',\n",
       "  ',',\n",
       "  'eldest',\n",
       "  'daughter',\n",
       "  'of',\n",
       "  'queen',\n",
       "  'victoria',\n",
       "  'of',\n",
       "  'the',\n",
       "  'united',\n",
       "  'kingdom',\n",
       "  '.']]"
      ]
     },
     "execution_count": 90,
     "metadata": {},
     "output_type": "execute_result"
    }
   ],
   "source": [
    "tokenized1[:10]"
   ]
  },
  {
   "cell_type": "code",
   "execution_count": 91,
   "metadata": {
    "collapsed": true
   },
   "outputs": [],
   "source": [
    "# delete punctuations\n",
    "\n",
    "#tuniqcompl=[[word for word in sentence if word not in string.punctuation] for sentence in tokenized1]\n",
    "#tuniqsimpl=[[word for word in sentence if word not in string.punctuation] for sentence in tokenized2]"
   ]
  },
  {
   "cell_type": "code",
   "execution_count": 92,
   "metadata": {
    "collapsed": true
   },
   "outputs": [],
   "source": [
    "tuniqcompl = tokenized1\n",
    "tuniqsimpl = tokenized2"
   ]
  },
  {
   "cell_type": "code",
   "execution_count": 93,
   "metadata": {},
   "outputs": [
    {
     "data": {
      "text/plain": [
       "['frederick',\n",
       " 'married',\n",
       " 'princess',\n",
       " 'victoria',\n",
       " ',',\n",
       " 'eldest',\n",
       " 'daughter',\n",
       " 'of',\n",
       " 'queen',\n",
       " 'victoria',\n",
       " 'of',\n",
       " 'the',\n",
       " 'united',\n",
       " 'kingdom',\n",
       " '.']"
      ]
     },
     "execution_count": 93,
     "metadata": {},
     "output_type": "execute_result"
    }
   ],
   "source": [
    "tuniqcompl[9]"
   ]
  },
  {
   "cell_type": "code",
   "execution_count": 94,
   "metadata": {},
   "outputs": [
    {
     "data": {
      "text/plain": [
       "15"
      ]
     },
     "execution_count": 94,
     "metadata": {},
     "output_type": "execute_result"
    }
   ],
   "source": [
    "len(tuniqcompl[9])"
   ]
  },
  {
   "cell_type": "code",
   "execution_count": 95,
   "metadata": {},
   "outputs": [
    {
     "data": {
      "text/plain": [
       "['on',\n",
       " '25',\n",
       " 'january',\n",
       " '1858',\n",
       " 'he',\n",
       " 'married',\n",
       " 'princess',\n",
       " 'victoria',\n",
       " 'of',\n",
       " 'the',\n",
       " 'united',\n",
       " 'kingdom',\n",
       " ',',\n",
       " 'eldest',\n",
       " 'child',\n",
       " 'of',\n",
       " 'queen',\n",
       " 'victoria',\n",
       " 'and',\n",
       " 'albert',\n",
       " 'the',\n",
       " 'prince',\n",
       " 'consort',\n",
       " '.']"
      ]
     },
     "execution_count": 95,
     "metadata": {},
     "output_type": "execute_result"
    }
   ],
   "source": [
    "tuniqsimpl[9]"
   ]
  },
  {
   "cell_type": "code",
   "execution_count": 96,
   "metadata": {},
   "outputs": [
    {
     "data": {
      "text/plain": [
       "24"
      ]
     },
     "execution_count": 96,
     "metadata": {},
     "output_type": "execute_result"
    }
   ],
   "source": [
    "len(tuniqsimpl[9])"
   ]
  },
  {
   "cell_type": "code",
   "execution_count": 97,
   "metadata": {
    "collapsed": true
   },
   "outputs": [],
   "source": [
    "def del_larger_simples(complex_sentences, simple_sentences, perc_threshold_for_no_of_words):\n",
    "    lcomp=[]\n",
    "    lsimp=[]\n",
    "    for comp, simp in zip(complex_sentences, simple_sentences):\n",
    "        if len(simp)/len(comp) <= perc_threshold_for_no_of_words:\n",
    "            lcomp.append(comp)\n",
    "            lsimp.append(simp)\n",
    "    return lsimp, lcomp"
   ]
  },
  {
   "cell_type": "code",
   "execution_count": 98,
   "metadata": {
    "collapsed": true
   },
   "outputs": [],
   "source": [
    "compl_without_ls, simpl_without_ls = del_larger_simples(tuniqcompl, tuniqsimpl, 1.5)"
   ]
  },
  {
   "cell_type": "code",
   "execution_count": 99,
   "metadata": {},
   "outputs": [
    {
     "data": {
      "text/plain": [
       "228739"
      ]
     },
     "execution_count": 99,
     "metadata": {},
     "output_type": "execute_result"
    }
   ],
   "source": [
    "len(compl_without_ls)"
   ]
  },
  {
   "cell_type": "code",
   "execution_count": 100,
   "metadata": {},
   "outputs": [
    {
     "data": {
      "text/plain": [
       "228739"
      ]
     },
     "execution_count": 100,
     "metadata": {},
     "output_type": "execute_result"
    }
   ],
   "source": [
    "len(simpl_without_ls)"
   ]
  },
  {
   "cell_type": "code",
   "execution_count": 101,
   "metadata": {
    "scrolled": true
   },
   "outputs": [
    {
     "data": {
      "text/plain": [
       "[['armenian',\n",
       "  'monk',\n",
       "  'gregory',\n",
       "  'of',\n",
       "  'nicopolis',\n",
       "  '(',\n",
       "  'gregory',\n",
       "  'makar',\n",
       "  ')',\n",
       "  '(',\n",
       "  'grégoire',\n",
       "  'de',\n",
       "  'nicopolis',\n",
       "  ')',\n",
       "  'brought',\n",
       "  'ginger',\n",
       "  'bread',\n",
       "  'to',\n",
       "  'europe',\n",
       "  'in',\n",
       "  '992',\n",
       "  '.'],\n",
       " ['the',\n",
       "  'custom',\n",
       "  'was',\n",
       "  'to',\n",
       "  'bake',\n",
       "  'white',\n",
       "  'biscuits',\n",
       "  'and',\n",
       "  'paint',\n",
       "  'them',\n",
       "  'as',\n",
       "  'window',\n",
       "  'decorations',\n",
       "  '.'],\n",
       " ['german',\n",
       "  'immigrants',\n",
       "  'brought',\n",
       "  'it',\n",
       "  'to',\n",
       "  'sweden',\n",
       "  'during',\n",
       "  'the',\n",
       "  '13th',\n",
       "  'century',\n",
       "  '.'],\n",
       " ['after',\n",
       "  ',',\n",
       "  'it',\n",
       "  'was',\n",
       "  'a',\n",
       "  'confection',\n",
       "  'made',\n",
       "  'with',\n",
       "  'honey',\n",
       "  'and',\n",
       "  'spices',\n",
       "  '.'],\n",
       " ['records',\n",
       "  'show',\n",
       "  'that',\n",
       "  'gingerbread',\n",
       "  'biscuits',\n",
       "  'were',\n",
       "  'sold',\n",
       "  'in',\n",
       "  'monasteries',\n",
       "  ',',\n",
       "  'pharmacies',\n",
       "  'and',\n",
       "  'town',\n",
       "  'square',\n",
       "  'farmers',\n",
       "  \"'\",\n",
       "  'markets',\n",
       "  'in',\n",
       "  'the',\n",
       "  '16th',\n",
       "  'century',\n",
       "  '.']]"
      ]
     },
     "execution_count": 101,
     "metadata": {},
     "output_type": "execute_result"
    }
   ],
   "source": [
    "compl_without_ls[:5]"
   ]
  },
  {
   "cell_type": "code",
   "execution_count": 102,
   "metadata": {
    "scrolled": true
   },
   "outputs": [
    {
     "data": {
      "text/plain": [
       "[['gingerbread',\n",
       "  'was',\n",
       "  'brought',\n",
       "  'to',\n",
       "  'europe',\n",
       "  'in',\n",
       "  '992',\n",
       "  'by',\n",
       "  'the',\n",
       "  'armenian',\n",
       "  'monk',\n",
       "  'gregory',\n",
       "  'of',\n",
       "  'nicopolis',\n",
       "  '(',\n",
       "  'gregory',\n",
       "  'makar',\n",
       "  ')',\n",
       "  '(',\n",
       "  'grégoire',\n",
       "  'de',\n",
       "  'nicopolis',\n",
       "  ')',\n",
       "  '.'],\n",
       " ['it',\n",
       "  'was',\n",
       "  'the',\n",
       "  'custom',\n",
       "  'to',\n",
       "  'bake',\n",
       "  'white',\n",
       "  'biscuits',\n",
       "  'and',\n",
       "  'paint',\n",
       "  'them',\n",
       "  'as',\n",
       "  'window',\n",
       "  'decorations',\n",
       "  '.'],\n",
       " ['during',\n",
       "  'the',\n",
       "  '13th',\n",
       "  'century',\n",
       "  ',',\n",
       "  'gingerbread',\n",
       "  'was',\n",
       "  'brought',\n",
       "  'to',\n",
       "  'sweden',\n",
       "  'by',\n",
       "  'german',\n",
       "  'immigrants',\n",
       "  '.'],\n",
       " ['it',\n",
       "  'then',\n",
       "  'referred',\n",
       "  'to',\n",
       "  'a',\n",
       "  'confection',\n",
       "  'made',\n",
       "  'with',\n",
       "  'honey',\n",
       "  'and',\n",
       "  'spices',\n",
       "  '.'],\n",
       " ['the',\n",
       "  'first',\n",
       "  'documented',\n",
       "  'trade',\n",
       "  'of',\n",
       "  'gingerbread',\n",
       "  'biscuits',\n",
       "  'dates',\n",
       "  'to',\n",
       "  'the',\n",
       "  '17th',\n",
       "  'century',\n",
       "  ',',\n",
       "  'where',\n",
       "  'they',\n",
       "  'were',\n",
       "  'sold',\n",
       "  'in',\n",
       "  'monasteries',\n",
       "  ',',\n",
       "  'pharmacies',\n",
       "  'and',\n",
       "  'town',\n",
       "  'square',\n",
       "  'farmers',\n",
       "  \"'\",\n",
       "  'markets',\n",
       "  '.']]"
      ]
     },
     "execution_count": 102,
     "metadata": {},
     "output_type": "execute_result"
    }
   ],
   "source": [
    "simpl_without_ls[:5]"
   ]
  },
  {
   "cell_type": "code",
   "execution_count": 103,
   "metadata": {
    "collapsed": true
   },
   "outputs": [],
   "source": [
    "def write_to_file(processed_text, output_file):\n",
    "    output = open(output_file, 'wb')\n",
    "    pickle.dump(processed_text, output)"
   ]
  },
  {
   "cell_type": "code",
   "execution_count": 104,
   "metadata": {
    "collapsed": true
   },
   "outputs": [],
   "source": [
    "write_to_file(compl_without_ls, 'preprocessing/complex_preprocessed')\n",
    "write_to_file(simpl_without_ls, 'preprocessing/simple_preprocessed')"
   ]
  },
  {
   "cell_type": "code",
   "execution_count": null,
   "metadata": {
    "collapsed": true
   },
   "outputs": [],
   "source": []
  },
  {
   "cell_type": "code",
   "execution_count": null,
   "metadata": {
    "collapsed": true
   },
   "outputs": [],
   "source": [
    "# erneuter Zugriff auf pickle data mit: pickle.load(file)\n",
    "# s. word2vec.simplify.ipynb"
   ]
  }
 ],
 "metadata": {
  "kernelspec": {
   "display_name": "Python 3",
   "language": "python",
   "name": "python3"
  },
  "language_info": {
   "codemirror_mode": {
    "name": "ipython",
    "version": 3
   },
   "file_extension": ".py",
   "mimetype": "text/x-python",
   "name": "python",
   "nbconvert_exporter": "python",
   "pygments_lexer": "ipython3",
   "version": "3.6.2"
  }
 },
 "nbformat": 4,
 "nbformat_minor": 2
}
