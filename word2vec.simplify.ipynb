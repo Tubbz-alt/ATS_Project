{
 "cells": [
  {
   "cell_type": "code",
   "execution_count": 1,
   "metadata": {
    "collapsed": true
   },
   "outputs": [],
   "source": [
    "import pickle\n",
    "\n",
    "from gensim import models\n",
    "from gensim.models import Word2Vec"
   ]
  },
  {
   "cell_type": "code",
   "execution_count": 3,
   "metadata": {
    "collapsed": true
   },
   "outputs": [],
   "source": [
    "with open(\"preprocessing/complex_preprocessed\", \"rb\") as f:\n",
    "    complex_sentences = pickle.load(f)"
   ]
  },
  {
   "cell_type": "code",
   "execution_count": 3,
   "metadata": {
    "collapsed": true
   },
   "outputs": [],
   "source": [
    "with open(\"preprocessing/simple_preprocessed\", \"rb\") as g:\n",
    "    simple_sentences = pickle.load(g)"
   ]
  },
  {
   "cell_type": "code",
   "execution_count": 36,
   "metadata": {
    "collapsed": true
   },
   "outputs": [],
   "source": [
    "complex_model = Word2Vec(complex_sentences, min_count=1, size = 100)\n",
    "simple_model = Word2Vec(simple_sentences, min_count=1, size = 100)"
   ]
  },
  {
   "cell_type": "code",
   "execution_count": 37,
   "metadata": {
    "collapsed": true
   },
   "outputs": [],
   "source": [
    "complex_model.save('word2vec/compl_vectors')\n",
    "simple_model.save('word2vec/simpl_vectors')"
   ]
  },
  {
   "cell_type": "markdown",
   "metadata": {},
   "source": [
    "### play with vectors"
   ]
  },
  {
   "cell_type": "code",
   "execution_count": 38,
   "metadata": {
    "collapsed": true
   },
   "outputs": [],
   "source": [
    "# access to saved vectors\n",
    "\n",
    "compl_model = Word2Vec.load('word2vec/compl_vectors')\n",
    "simpl_model = Word2Vec.load('word2vec/simpl_vectors')"
   ]
  },
  {
   "cell_type": "code",
   "execution_count": 39,
   "metadata": {},
   "outputs": [
    {
     "data": {
      "text/plain": [
       "124007"
      ]
     },
     "execution_count": 39,
     "metadata": {},
     "output_type": "execute_result"
    }
   ],
   "source": [
    "len(compl_model.wv.vocab)"
   ]
  },
  {
   "cell_type": "code",
   "execution_count": 40,
   "metadata": {},
   "outputs": [
    {
     "data": {
      "text/plain": [
       "173244"
      ]
     },
     "execution_count": 40,
     "metadata": {},
     "output_type": "execute_result"
    }
   ],
   "source": [
    "len(simpl_model.wv.vocab)"
   ]
  },
  {
   "cell_type": "code",
   "execution_count": null,
   "metadata": {
    "collapsed": true
   },
   "outputs": [],
   "source": []
  },
  {
   "cell_type": "code",
   "execution_count": 32,
   "metadata": {},
   "outputs": [
    {
     "data": {
      "text/plain": [
       "[['armenian',\n",
       "  'monk',\n",
       "  'gregory',\n",
       "  'of',\n",
       "  'nicopolis',\n",
       "  '(',\n",
       "  'gregory',\n",
       "  'makar',\n",
       "  ')',\n",
       "  '(',\n",
       "  'grégoire',\n",
       "  'de',\n",
       "  'nicopolis',\n",
       "  ')',\n",
       "  'brought',\n",
       "  'ginger',\n",
       "  'bread',\n",
       "  'to',\n",
       "  'europe',\n",
       "  'in',\n",
       "  '992',\n",
       "  '.'],\n",
       " ['the',\n",
       "  'custom',\n",
       "  'was',\n",
       "  'to',\n",
       "  'bake',\n",
       "  'white',\n",
       "  'biscuits',\n",
       "  'and',\n",
       "  'paint',\n",
       "  'them',\n",
       "  'as',\n",
       "  'window',\n",
       "  'decorations',\n",
       "  '.'],\n",
       " ['german',\n",
       "  'immigrants',\n",
       "  'brought',\n",
       "  'it',\n",
       "  'to',\n",
       "  'sweden',\n",
       "  'during',\n",
       "  'the',\n",
       "  '13th',\n",
       "  'century',\n",
       "  '.'],\n",
       " ['after',\n",
       "  ',',\n",
       "  'it',\n",
       "  'was',\n",
       "  'a',\n",
       "  'confection',\n",
       "  'made',\n",
       "  'with',\n",
       "  'honey',\n",
       "  'and',\n",
       "  'spices',\n",
       "  '.'],\n",
       " ['records',\n",
       "  'show',\n",
       "  'that',\n",
       "  'gingerbread',\n",
       "  'biscuits',\n",
       "  'were',\n",
       "  'sold',\n",
       "  'in',\n",
       "  'monasteries',\n",
       "  ',',\n",
       "  'pharmacies',\n",
       "  'and',\n",
       "  'town',\n",
       "  'square',\n",
       "  'farmers',\n",
       "  \"'\",\n",
       "  'markets',\n",
       "  'in',\n",
       "  'the',\n",
       "  '16th',\n",
       "  'century',\n",
       "  '.'],\n",
       " ['he',\n",
       "  'left',\n",
       "  'nicopolis',\n",
       "  'pompeii',\n",
       "  ',',\n",
       "  'in',\n",
       "  'lesser',\n",
       "  'armenia',\n",
       "  'to',\n",
       "  'live',\n",
       "  'in',\n",
       "  'bondaroy',\n",
       "  '(',\n",
       "  'france',\n",
       "  ')',\n",
       "  'and',\n",
       "  'stayed',\n",
       "  'seven',\n",
       "  'years',\n",
       "  '.'],\n",
       " ['before',\n",
       "  ',',\n",
       "  'gingerbread',\n",
       "  '(',\n",
       "  'from',\n",
       "  'latin',\n",
       "  'zingiber',\n",
       "  ',',\n",
       "  'then',\n",
       "  'old',\n",
       "  'french',\n",
       "  'gingebras',\n",
       "  ')',\n",
       "  'meant',\n",
       "  'preserved',\n",
       "  'ginger',\n",
       "  '.'],\n",
       " ['swedish',\n",
       "  'nuns',\n",
       "  'baked',\n",
       "  'gingerbread',\n",
       "  'to',\n",
       "  'help',\n",
       "  'indigestion',\n",
       "  'in',\n",
       "  'the',\n",
       "  'year',\n",
       "  '1444',\n",
       "  '.'],\n",
       " ['with',\n",
       "  'a',\n",
       "  'higher',\n",
       "  'humidity',\n",
       "  ',',\n",
       "  'the',\n",
       "  'rate',\n",
       "  'of',\n",
       "  'evaporation',\n",
       "  'is',\n",
       "  'less',\n",
       "  '.'],\n",
       " ['the',\n",
       "  'son',\n",
       "  'of',\n",
       "  'a',\n",
       "  'photocopier',\n",
       "  'technician',\n",
       "  ',',\n",
       "  'he',\n",
       "  'trained',\n",
       "  'as',\n",
       "  'a',\n",
       "  'butcher',\n",
       "  'but',\n",
       "  'became',\n",
       "  'involved',\n",
       "  'in',\n",
       "  'graffiti',\n",
       "  'during',\n",
       "  'the',\n",
       "  'great',\n",
       "  'bristol',\n",
       "  'aerosol',\n",
       "  'boom',\n",
       "  'of',\n",
       "  'the',\n",
       "  'late',\n",
       "  '1980s',\n",
       "  \"''\",\n",
       "  '.']]"
      ]
     },
     "execution_count": 32,
     "metadata": {},
     "output_type": "execute_result"
    }
   ],
   "source": [
    "complex_sentences[:10]"
   ]
  },
  {
   "cell_type": "code",
   "execution_count": null,
   "metadata": {
    "collapsed": true
   },
   "outputs": [],
   "source": []
  },
  {
   "cell_type": "code",
   "execution_count": 42,
   "metadata": {
    "collapsed": true
   },
   "outputs": [],
   "source": [
    "for sentence in simple_sentences:\n",
    "    for word in sentence:\n",
    "        if word not in simpl_model.wv.vocab:\n",
    "            print(word)"
   ]
  },
  {
   "cell_type": "code",
   "execution_count": null,
   "metadata": {
    "collapsed": true
   },
   "outputs": [],
   "source": []
  },
  {
   "cell_type": "code",
   "execution_count": 22,
   "metadata": {},
   "outputs": [
    {
     "name": "stderr",
     "output_type": "stream",
     "text": [
      "IOPub data rate exceeded.\n",
      "The notebook server will temporarily stop sending output\n",
      "to the client in order to avoid crashing it.\n",
      "To change this limit, set the config variable\n",
      "`--NotebookApp.iopub_data_rate_limit`.\n"
     ]
    }
   ],
   "source": [
    "compl_model.wv.vocab.items()"
   ]
  },
  {
   "cell_type": "code",
   "execution_count": 20,
   "metadata": {},
   "outputs": [
    {
     "data": {
      "text/plain": [
       "1418"
      ]
     },
     "execution_count": 20,
     "metadata": {},
     "output_type": "execute_result"
    }
   ],
   "source": [
    "compl_model.wv.vocab[\"word\"].count"
   ]
  },
  {
   "cell_type": "code",
   "execution_count": 21,
   "metadata": {},
   "outputs": [
    {
     "ename": "NameError",
     "evalue": "name 'wv' is not defined",
     "output_type": "error",
     "traceback": [
      "\u001b[0;31m---------------------------------------------------------------------------\u001b[0m",
      "\u001b[0;31mNameError\u001b[0m                                 Traceback (most recent call last)",
      "\u001b[0;32m<ipython-input-21-13b2208dffa4>\u001b[0m in \u001b[0;36m<module>\u001b[0;34m()\u001b[0m\n\u001b[0;32m----> 1\u001b[0;31m \u001b[0mwv\u001b[0m\u001b[0;34m.\u001b[0m\u001b[0mvocab\u001b[0m\u001b[0;34m.\u001b[0m\u001b[0mitems\u001b[0m\u001b[0;34m(\u001b[0m\u001b[0;34m)\u001b[0m\u001b[0;34m\u001b[0m\u001b[0m\n\u001b[0m",
      "\u001b[0;31mNameError\u001b[0m: name 'wv' is not defined"
     ]
    }
   ],
   "source": [
    "wv.vocab.items()"
   ]
  },
  {
   "cell_type": "code",
   "execution_count": null,
   "metadata": {
    "collapsed": true
   },
   "outputs": [],
   "source": []
  },
  {
   "cell_type": "code",
   "execution_count": 63,
   "metadata": {},
   "outputs": [
    {
     "name": "stdout",
     "output_type": "stream",
     "text": [
      "['armenian', 'monk', 'gregory', 'of', 'nicopolis', '(', 'makar', ')', 'grégoire', 'de', 'brought', 'ginger', 'bread', 'to', 'europe', 'in', '992', '.', 'the', 'custom', 'was', 'bake', 'white', 'biscuits', 'and', 'paint', 'them', 'as', 'window', 'decorations', 'german', 'immigrants', 'it', 'sweden', 'during', '13th', 'century', 'after', ',', 'a', 'confection', 'made', 'with', 'honey', 'spices', 'records', 'show', 'that', 'gingerbread', 'were', 'sold', 'monasteries', 'pharmacies', 'town', 'square', 'farmers', \"'\", 'markets', '16th', 'he', 'left', 'pompeii', 'lesser', 'armenia', 'live', 'bondaroy', 'france', 'stayed', 'seven', 'years', 'before', 'from', 'latin', 'zingiber', 'then', 'old', 'french', 'gingebras', 'meant', 'preserved', 'swedish', 'nuns', 'baked', 'help', 'indigestion', 'year', '1444', 'higher', 'humidity', 'rate', 'evaporation', 'is', 'less', 'son', 'photocopier', 'technician', 'trained', 'butcher', 'but', 'became']\n"
     ]
    }
   ],
   "source": [
    "words = list(compl_model.wv.vocab)\n",
    "print(words[:100])"
   ]
  },
  {
   "cell_type": "code",
   "execution_count": 72,
   "metadata": {},
   "outputs": [
    {
     "name": "stdout",
     "output_type": "stream",
     "text": [
      "[-1.95942387e-01  4.59474465e-03 -2.03288496e-01  7.21005261e-01\n",
      " -5.87109447e-01  2.24423245e-01 -9.18249428e-01  4.03739780e-01\n",
      "  9.85192582e-02  5.16573489e-02 -8.72684419e-01  1.07455480e+00\n",
      " -4.04173851e-01 -1.03940666e-01  2.53785193e-01  5.37278593e-01\n",
      "  7.62059167e-02  1.05135036e+00  5.02066076e-01 -1.08347833e+00\n",
      "  4.36554968e-01 -3.35469455e-01  1.14413083e-01  6.12833202e-01\n",
      " -1.96637824e-01 -2.02364877e-01 -1.71647713e-01  1.28322184e+00\n",
      "  8.27862993e-02  5.45960246e-03  1.40585995e+00 -1.01497710e-01\n",
      "  4.44838613e-01  2.19563872e-01  3.62944365e-01 -4.55414951e-01\n",
      " -5.43243252e-02  1.25000462e-01 -3.40934753e-01  4.67081547e-01\n",
      "  5.01248538e-01 -1.24454997e-01  4.92465794e-01 -4.51683581e-01\n",
      " -3.12115457e-02  1.01028077e-01  8.34683061e-01  3.12151909e-02\n",
      "  8.87831151e-02 -3.39425772e-01  9.07627046e-01  5.19544303e-01\n",
      "  2.29473129e-01  1.21565573e-01  3.91205132e-01  3.73467386e-01\n",
      " -5.14497876e-01 -5.01179814e-01  3.48103009e-02  4.14716929e-01\n",
      " -3.02000701e-01 -1.23369932e-01  4.86867540e-02  2.48480245e-01\n",
      "  7.75767267e-01 -1.93246767e-01  1.14361480e-01  2.32307047e-01\n",
      " -3.53879392e-01 -2.17854619e-01 -5.27725443e-02  5.84756881e-02\n",
      "  1.67469352e-01 -6.95792496e-01  5.13820350e-02 -2.60869980e-01\n",
      " -3.90211158e-02 -7.14267015e-01  8.25274348e-01  1.66945040e-01\n",
      " -2.29445487e-01 -2.22454622e-01  4.25823748e-01 -8.47111195e-02\n",
      " -5.06241284e-02  1.11905783e-01  1.27883613e-01  1.06663294e-01\n",
      " -2.27692008e-01 -1.04037933e-02  6.53305799e-02  4.40085560e-01\n",
      " -6.81019351e-02 -5.10323107e-01  2.24457711e-01 -2.89573789e-01\n",
      "  1.01214767e-01  1.44910499e-01 -4.20749813e-01 -1.24604903e-01\n",
      " -8.67118686e-02  7.45734572e-01 -1.66144129e-02 -4.44162786e-01\n",
      " -7.70763874e-01 -1.55670866e-01 -4.06113088e-01  3.59785378e-01\n",
      "  7.18236327e-01  3.79114300e-02  3.13308716e-01 -5.28716922e-01\n",
      "  2.19863921e-01 -1.01300307e-01 -1.99324682e-01  9.22179461e-01\n",
      "  7.97678381e-02  1.11623013e+00 -3.42709981e-02 -1.61016539e-01\n",
      " -4.64536622e-02  5.66451311e-01 -4.80720192e-01  8.94018728e-03\n",
      "  2.08617687e-01  9.24073696e-01  1.89267099e-01  2.13020667e-01\n",
      "  1.79789975e-01  1.53295475e-03 -4.14681017e-01 -4.95920032e-01\n",
      " -7.55463094e-02  5.55971265e-01 -1.03846920e+00 -9.14467394e-01\n",
      " -1.74748167e-01 -1.37932137e-01  1.51588805e-02 -1.14369653e-01\n",
      "  3.22953165e-01  3.72868627e-01 -2.24526808e-01 -1.08197129e+00\n",
      "  1.55978680e+00  2.13820517e-01  6.77881777e-01  1.30242181e+00\n",
      " -2.76803344e-01  1.58545956e-01  4.22766268e-01 -1.23398376e+00\n",
      "  3.51203352e-01 -1.34274632e-01 -3.72379154e-01  2.88222939e-01\n",
      "  1.87005084e-02 -5.80304228e-02 -3.90825197e-02  1.02648020e+00\n",
      "  4.85316277e-01 -4.25167352e-01  5.60578883e-01  7.81979740e-01\n",
      "  9.35741723e-01 -4.82636929e-01  8.83159757e-01  1.32320017e-01\n",
      "  4.22903448e-02 -8.65488112e-01 -3.52025300e-01 -6.83882475e-01\n",
      " -2.02140603e-02 -3.46651636e-02  1.15834966e-01  6.12901211e-01\n",
      "  6.85226321e-01  6.62651137e-02  4.96969968e-01  2.22665649e-02\n",
      " -9.11068261e-01  8.20641816e-01  2.74270535e-01  7.43695974e-01\n",
      " -1.97541550e-01 -6.58158720e-01 -8.37568417e-02 -9.70165551e-01\n",
      "  1.45171613e-01  3.73790532e-01  2.82961875e-01  1.13326229e-01\n",
      " -4.21260223e-02  7.49405921e-01 -1.68745130e-01  2.54287750e-01\n",
      "  1.02935597e-01  1.26332819e-01 -6.57802001e-02 -3.06482110e-02\n",
      "  3.00912559e-01  2.16510624e-01  4.83498305e-01 -6.14202201e-01\n",
      "  8.12188089e-01  4.62504774e-01  1.01065767e+00 -4.38012898e-01\n",
      " -4.45958644e-01 -4.19969738e-01 -7.53511906e-01 -2.28837997e-01\n",
      " -7.55199015e-01  4.15004879e-01 -1.13174796e+00 -4.69340421e-02\n",
      " -2.12620229e-01 -8.36378694e-01  2.28545174e-01 -1.01046050e+00\n",
      "  3.31665039e-01 -1.03031777e-01 -3.31790060e-01 -2.59372741e-01\n",
      "  2.65015244e-01 -1.06032193e-01  5.43736577e-01  3.44482929e-01\n",
      " -8.09044957e-01 -6.31291047e-02  8.66328031e-02 -2.42828652e-01\n",
      " -5.43251038e-01 -1.26333132e-01 -1.84944570e-01 -4.88051653e-01\n",
      " -3.83056365e-02 -9.39321220e-01  1.63927600e-01 -7.89900184e-01\n",
      "  2.60653079e-01  9.91262078e-01  2.48902887e-02 -8.60066772e-01\n",
      "  2.90965229e-01 -4.55639279e-03  1.14158511e-01 -3.90183657e-01\n",
      "  1.24438417e+00  3.00419509e-01 -5.18042505e-01 -5.18579185e-01\n",
      "  1.75182074e-01  3.62223051e-02 -1.05347253e-01 -1.09519958e+00\n",
      "  2.34512284e-01 -4.57450122e-01  2.96878636e-01 -1.19356275e+00\n",
      " -9.28902984e-01 -1.73758179e-01 -1.78528741e-01  1.84278518e-01\n",
      "  4.62129414e-01  7.03662157e-01  2.93385237e-01  5.12277246e-01\n",
      " -4.85667020e-01 -1.49932981e-01 -4.84739572e-01 -1.98220342e-01\n",
      "  5.07369578e-01 -3.06632724e-02  2.32037008e-01 -3.10597956e-01\n",
      " -1.42123938e-01 -3.82635146e-02  2.48528466e-01  2.36372188e-01\n",
      "  5.88439047e-01 -4.07196164e-01  5.08610979e-02  8.98478255e-02\n",
      "  9.25770760e-01 -1.58955008e-01  5.20612225e-02 -2.36101806e-01\n",
      " -1.37340590e-01 -3.78674835e-01 -8.63286197e-01 -2.97020704e-01\n",
      "  2.60775890e-02 -7.50768661e-01  6.86775267e-01 -9.30242598e-01\n",
      " -3.55776131e-01 -1.07129358e-01 -2.48938501e-01  8.09732527e-02]\n"
     ]
    },
    {
     "name": "stderr",
     "output_type": "stream",
     "text": [
      "/Users/dominik_pfuetze/anaconda/lib/python3.6/site-packages/ipykernel_launcher.py:5: DeprecationWarning: Call to deprecated `__getitem__` (Method will be removed in 4.0.0, use self.wv.__getitem__() instead).\n",
      "  \"\"\"\n"
     ]
    }
   ],
   "source": [
    "# b = a ist nur \"verknüpfung\" daher deepcopy oder b = a[:]\n",
    "\n",
    "from copy import deepcopy as dc\n",
    "\n",
    "word_vector = dc(compl_model[\",\"])\n",
    "print(word_vector)"
   ]
  },
  {
   "cell_type": "code",
   "execution_count": 73,
   "metadata": {
    "collapsed": true
   },
   "outputs": [],
   "source": [
    "#change value in vector\n",
    "word_vector[0] = 0.5"
   ]
  },
  {
   "cell_type": "code",
   "execution_count": 74,
   "metadata": {},
   "outputs": [
    {
     "name": "stderr",
     "output_type": "stream",
     "text": [
      "/Users/dominik_pfuetze/anaconda/lib/python3.6/site-packages/ipykernel_launcher.py:1: DeprecationWarning: Call to deprecated `most_similar` (Method will be removed in 4.0.0, use self.wv.most_similar() instead).\n",
      "  \"\"\"Entry point for launching an IPython kernel.\n"
     ]
    },
    {
     "data": {
      "text/plain": [
       "[(',', 0.9967737793922424)]"
      ]
     },
     "execution_count": 74,
     "metadata": {},
     "output_type": "execute_result"
    }
   ],
   "source": [
    "compl_model.most_similar(positive=[word_vector], topn=1)"
   ]
  },
  {
   "cell_type": "code",
   "execution_count": null,
   "metadata": {
    "collapsed": true
   },
   "outputs": [],
   "source": []
  },
  {
   "cell_type": "code",
   "execution_count": null,
   "metadata": {
    "collapsed": true
   },
   "outputs": [],
   "source": []
  },
  {
   "cell_type": "markdown",
   "metadata": {},
   "source": [
    "## fastText"
   ]
  },
  {
   "cell_type": "code",
   "execution_count": 45,
   "metadata": {},
   "outputs": [
    {
     "name": "stdout",
     "output_type": "stream",
     "text": [
      "Requirement already satisfied: fasttext in /Users/dominik_pfuetze/anaconda/lib/python3.6/site-packages (0.8.3)\r\n",
      "Requirement already satisfied: numpy>=1 in /Users/dominik_pfuetze/anaconda/lib/python3.6/site-packages (from fasttext) (1.14.2)\r\n",
      "Requirement already satisfied: future in /Users/dominik_pfuetze/anaconda/lib/python3.6/site-packages (from fasttext) (0.16.0)\r\n"
     ]
    }
   ],
   "source": [
    "! pip install fasttext"
   ]
  },
  {
   "cell_type": "code",
   "execution_count": 28,
   "metadata": {},
   "outputs": [],
   "source": [
    "import fasttext\n",
    "\n",
    "# Skipgram model\n",
    "model = fasttext.skipgram('corpus/wiki_simple_train_small.txt', 'model')"
   ]
  },
  {
   "cell_type": "code",
   "execution_count": 30,
   "metadata": {},
   "outputs": [
    {
     "name": "stdout",
     "output_type": "stream",
     "text": [
      "{'treatment', 'cut', 'trains', 'Cape', 'Sinclair', 'Celsus', 'leaves', 'Robert', 'fighter', 'depend', 'Empress', 'Orleans', 'ship', 'Titan', 'southeast', '′', 'decreased', 'editing', 'announced', '1966', 'Peterson', 'confused', 'matches', 'marriage', 'post', 'milk', 'Fort', 'student', 'Like', 'singer', 'mice', 'plain', 'wavelengths', 'percent', 'powers', 'reactions', 'Life', 'translations', 'state', 'music', 'British', 'think', 'entry', 'instead', 'proof', 'persons', 'Falcon', 'acceleration', 'Race', 'following', '1965', '120', 'leaders', 'Witch', 'SWAC', 'several', 'Memorial', 'Pittsburgh', 'along', 'marked', 'significant', 'Both', 'college', 'Trevi', 'find', 'escaped', 'underground', 'right', 'Examples', 'could', 'stations', 'masses', 'Mickey', 'leave', 'Spirit', 'Hurricane', 'companies', 'impulse', 'mechanics', '1923', 'actor', 'Kart', 'entered', 'insects', '48', 'Opera', 'Stadium', 'air', 'Italian', 'unlike', 'courts', 'Atlanta', 'watching', 'Schools', 'features', 'Leo', 'sculptures', 'side', 'resistance', 'Family', 'day', 'Lohan', 'projects', 'mobile', 'images', 'murder', 'opposition', 'To', 'soldiers', 'light', 'layers', 'account', '52', 'pronounced', 'become', 'Rooster', '20', 'universe', 'Film', 'McCullough', 'musical', 'color', 'art', 'Once', 'Yerevan', 'conducted', 'Ealy', 'Japan', 'Hawaii', 'European', 'clubs', 'for', 'country', 'Greece', '#', '1924', 'Peter', 'actual', 'adults', 'albums', 'Google', 'muscles', 'violin', 'grounds', 'But', 'seven', 'Allen', 'missing', 'Sphyrna', 'R&B', 'frames', 'used', 'treated', 'finals', 'W', 'miles', '13', 'While', '1898', 'emu', 'frogs', 'Library', 'copper', 'throwing', 'Tenji', 'governments', 'supposed', 'prisoners', 'image', 'arranged', 'wine', '16th', 'municipality', 'rebuilt', '1950s', 'qualified', 'Fire', 'viruses', 'bell', 'White', 'broke', 'studio', 'relative', 'groups', 'programs', 'Teide', 'tube', 'Free', 'offered', 'numbers', 'individuals', 'Mariska', 'assigned', 'western', 'climbed', 'throughout', 'medium', 'improve', 'located', 'El', 'Unlike', 'Debby', 'not', '55', 'Moroccan', 'Scott', 'Troy', 'stellar', 'Again', 'CD', 'attached', 'countries', 'Fox', 'Waters', '1944', 'experience', 'feature', 'stem', 'month', 'animals', 'operation', 'Caucasus', 'however', 'Lincoln', 'critics', 'participated', 'statue', 'pupil', 'Christian', 'Award', 'symptoms', 'ribbon', 'Ó', 'Senators', 'continued', 'natural', '28', 'Arts', 'Urdu', 'correct', 'Round', 'ICC', 'million', 'Hooker', 'flavor', 'me', 'claims', 'use', 'levels', 'Baron', 'clear', 'Winfrey', 'best-known', 'related', 'featuring', 'principal', '1913', 'SIDS', 'eats', 'succeeded', 'butterfly', 'sculptor', 'still', 'Fuller', 'provided', 'third', 'Holy', 'collected', 'formal', 'dispute', 'ninth', 'distributed', 'capture', 'sets', 'Beyoncé', 'game', '62', 'introduction', 'shield', 'Note', '4th', 'Craig', 'Cell', 'soprano', 'Portuguese', 'Madison', 'wanted', 'molecular', 'Local', 'best', 'gray', 'reaching', 'Bob', 'persuaded', 'worldwide', 'Mozart', 'Alabama', 'heavily', 'independent', 'type', 'develop', '26', 'scored', 'Fiedler', 'hear', 'Comet', 'particular', 'recently', 'demonstration', 'suggest', 'both', 'ships', 'rapid', 'occurs', 'difficult', 'functions', 'debuted', 'gang', 'member', 'motor', 'departments', 'Wheat', 'Apple', 'Spandau', 'request', 'Minotaur', 'Vergeer', 'Alliance', 'colony', 'Declaration', 'ways', 'United', 'story', 'world', 'model', 'Media', 'members', 'electric', 'cells', 'mammals', 'PIM', '2000', 'engine', 'Code', 'Whitehurst', 'Thistle', 'Antarctica', 'faced', 'smaller', 'management', 'extremely', 'grouped', 'posted', 'helped', 'blocking', 'Polish', 'future', 'exists', 'destruction', 'Ampère', 'interference', 'Martin', 'basis', 'should', 'drama', 'albatross', 'Plague', 'cream', 'opening', 'NGC', 'Summer', 'W.', 'Adams', 'range', 'relatively', 'Britain', 'Rock', 'Y', 'sharp', 'aged', '1998', 'out', 'including', 'units', 'childhood', 'eruptions', 'secret', 'attended', 'Bulgarian', 'Bladen', 'without', 'Federal', 'people', 'immune', 'Office', 'Clinched', 'creation', 'She', 'models', '1990s', 'officer', 'Monaco', 'match', 'decay', 'other', 'Austin', 'epidemic', 'conservation', 'results', 'Diego', 'southern', 'descent', 'Imperial', 'firing', 'atomic', 'lighter', 'River', 'Dushku', 'Columbia', 'none', 'leading', 'Melbourne', 'mixed', 'Hebrew', 'above', 'require', 'Premier', 'Guam', 'anthem', 'Christians', 'PhD', 'Meiji', 'era', '1987', '2013', 'Harvard', 'athletes', 'well-known', 'begin', 'sculpture', 'holy', 'Valley', 'Boeing', 'unknown', 'Jasper', 'Ortiz', 'album', 'DMA', 'WWE', 'Weather', 'latest', 'Sweden', 'Mushroom', 'Art', '1926', 'confusion', 'celebrity', 'Mother', 'Hail', 'divorced', 'lose', 'Grand', 'associated', 'unable', 'thus', 'Russell', 'person', 'slightly', 'Lough', 'relatives', '1997', 'Every', 'made', '1947', 'Salisbury', 'can', 'My', 'serving', 'Nevertheless', 's', 'Samlesbury', 'definition', 'easily', 'entirely', '65', '75', 'resolution', 'Law', 'real', 'join', 'may', 'restored', 'keeping', 'Hemingway', 'warm', 'E.', 'trouble', 'playoff', 'amongst', 'botanical', 'Mayra', 'entertainment', 'society', 'Royal', 'duchies', 'Fair', 'Lucrezia', 'seasons', 'India', 'admitted', 'escape', 'orbital', 'recent', 'Velociraptor', 'professor', 'twice', 'racing', 'many', 'eyes', 'College', 'Park', 'Germany', 'chosen', 'S.', 'problems', 'Lennon', 'priests', 'occasion', 'product', 'Caucasian', 'Crawford', 'Canberra', 'task', 'Soul', 'novelist', 'Chamber', 'might', 'wooden', 'Wild', 'mission', 'Blues', 'becomes', 'arrive', 'this', 'compact', 'Turin', 'too', 'fall', 'quite', 'hands', 'hunting', 'teachers', 'Marie', '30,000', 'treaty', 'Leipzig', 'relates', 'Berlin', 'dominant', '1980s', 'president', 'polarization', 'Leader', 'Las', 'very', 'grains', 'earliest', 'computer', 'reign', 'Cyrus', 'duchy', 'reptiles', 'GM', 'coastal', 'him', 'gold', 'past', 'two', 'June', 'Lower', 'southeastern', 'door', 'MTV', 'after', 'Bible', 'location', 'shell', '45', 'put', '1910', 'room', 'affected', 'system', 'Catalunya', 'special', 'clean', 'Christopher', 'dedicated', 'his', 'others', 'membership', 'level', 'winners', 'rooms', 'web', 'indicate', 'strings', 'So', 'gay', 'Screen', '1908', 'York', 'defeating', 'wide', 'Pichilemu', 'central', 'Switzerland', 'Secretary', 'saying', 'capable', 'Captain', 'Animated', '1865', 'disease', 'sky', 'idea', 'creek', 'Site', 'Miss', 'promoted', 'figures', 'Games', 'Wright', 'dating', '1927', 'OTL', 'express', 'appear', '23', 'Governor', 'D.', 'Company', 'Sydney', 'spread', 'landfall', 'salt', 'irregular', 'sung', 'meteor', 'issued', 'Ottoman', 'respectively', 'Santiago', 'Temple', 'elephant', 'Nizam', 'hypothesis', 'Palestine', 'Coordinates', 'days', 'coming', 'sisters', 'perhaps', 'improved', 'Maryland', 'and', 'WrestleMania', 'Michaels', 'geography', 'Street', 'Mallory', 'authors', 'Regio', 'Joseph', '1945', 'candidate', 'CNDO', 'eccentricity', 'faces', 'rate', 'Oxford', 'dangerous', 'marble', 'zone', 'devices', 'blues', 'laws', 'sixth', 'bar', 'Campaign', 'via', 'begins', 'organised', 'Birmingham', 'best-selling', 'Anaphylaxis', 'lasts', '1970', 'mixture', 'contribution', 'somewhat', 'Brown', 'Happy', 'XII', 'Barrett', 'Mutton', 'Acts', 'Roger', 'field', '1995', 'Tag', 'receive', 'When', 'outside', 'successfully', 'statistical', 'wool', 'aftermath', 'notes', 'values', 'defeated', 'flora', 'Ottonian', '80', 'drums', 'Early', 'health', 'fiction', 'time', 'meet', 'Project', 'ended', 'responsible', 'thou', 'aid', 'soil', 'Standard', 'effective', 'Simpson', 'orbiting', 'operated', 'Asian', 'Angeles', '1932', 'Saarbrücken', 'Dresden', 'Europe', 'go', 'kinds', 'Night', 'exist', 'Mexico', 'construction', 'resources', 'noon', 'left', 'women', 'detected', 'BBC', 'hot', 'stingrays', 'Brandon', 'physicist', 'south', 'Baseball', '2010', 'instrument', 'economic', 'seventh', 'Kelly', 'brand', 'legal', 'prove', 'Players', 'architect', 'recordings', 'questions', 'examples', 'Teen', 'classification', 'Prix', 'northeast', 'invented', '1959', 'unusual', 'Aberdeen', 'alone', 'Anthology', 'Frost', 'Classic', 'Gulf', 'got', 'covering', 'known', 'control', 'Kansas', 'Canadiens', 'draw', 'removed', '1916', 'ethanol', 'Rob', ')', 'Pompeii', 'be', 'resulting', 'lands', 'Battle', 'molluscs', 'Kings', 'well', 'Darwin', \"'s\", 'lack', 'Field', 'youth', 'application', 'dust', 'Brian', 'average', 'meaning', '2006', 'rest', 'Williams', 'my', 'properties', 'Choir', 'performers', 'mostly', 'based', 'Open', 'new', 'own', \"'re\", 'answer', 'belong', '1991', 'sports', 'predators', 'infrared', 'Redwall', 'released', 'Han', 'Iolaus', 'warnings', 'joint', 'playoffs', 'Regional', 'sign', 'pole', 'Heinrich', 'zero', 'Points', 'consistently', 'Chess', 'Through', 'actions', 'vegetables', 'engraving', 'Order', 'castle', 'vertical', 'trial', 'Catholic', 'defense', 'Sir', 'equal', 'Iran', 'Arctic', 'competition', 'rises', 'Slater', 'stable', 'preserved', 'centuries', 'rule', 'Goodman', 'Minyintiri', 'Justice', 'race', 'younger', 'Thus', 'Since', 'temperature', 'Airport', 'planned', 'away', 'during', 'origin', 'punk', 'lightning', 'junior', 'Jersey', 'letter', 'tool', 'Long', '29', 'Helen', 'few', 'energy', 'gives', 'open', 'declared', 'McCartney', 'physics', '717', 'Johannes', '21', 'create', 'P', 'articles', 'colleagues', 'space', 'Wanderers', 'Nationalbibliothek', 'rivers', 'reduced', 'majority', 'parts', 'emperor', 'fired', 'integrated', 'plan', 'Vanessa', 'addition', 'lessons', 'noted', 'wrestler', 'Antarctic', 'geometry', 'Heavyweight', 'County', 'thousand', 'joining', 'subsequently', 'workers', 'Government', 'producer', 'compete', 'km2', 'probably', 'Plant', 'Walt', 'problem', 'district', 'whether', 'Prince', 'Championship', 'Home', 'present', '150', 'albedo', 'particle', 'half', 'massive', 'Lyside', 'DVD', 'World', '1989', 'scenes', 'interaction', 'performer', 'god', 'Mount', 'despite', 'cooking', 'alien', 'speed', 'Good', 'Wellington', 'Albums', 'conductor', 'Dave', 'money', 'Commonwealth', 'translated', 'Bullfrogs', 'cancer', 'spend', 'process', 'Chang', 'fishing', 'surface', 'medieval', 'Village', 'records', 'parish', 'Though', '1911', 'home', 'evolutionary', 'See', 'prey', 'Oilers', 'organized', 'bold', 'hurricane', 'pay-per-view', '1993', 'Sharikov', 'receptors', 'funds', 'wrestlers', 'Nations', 'South', '1940', 'autonomous', 'Age', 'woods', 'Much', 'show', 'Earl', 'eye', 'beginning', 'twelve', 'regarded', 'Λ', 'involved', 'Resolutions', 'trade', 'Deutsche', 'Floyd', 'required', 'University', 'contestant', 'distance', 'Scotia', 'strict', 'Those', 'flux', 'Cathedral', 'deposit', 'Organization', 'Buffy', 'Singapore', 'loss', 'passed', 'Paramount', 'landed', 'frequently', 'grass', 'oil', 'rolls', 'Depression', 'LM3', 'VI', 'try', 'broadcast', 'Anthony', 'breed', 'Entertainment', 'residents', 'map', 'Katara', 'machinima', '1961', 'Toronto', 'Sejm', 'hero', 'partitions', 'place', 'bombing', '3', 'Mississippi', 'Sedition', 'full', 'letters', 'reference', 'You', 'Junior', 'viewed', 'version', 'moment', 'north', 'lifetime', 'served', 'renamed', 'fixed', 'patterns', 'uncle', 'us', 'scientists', 'presidential', 'Liberty', 'Bavarian', 'measuring', 'style', 'Red', 'Its', 'fully', 'sources', 'drawn', 'comic', 'Show', 'Sylt', '6', 'opera', 'at', 'stop', '15th', 'limit', 'visas', 'included', 'previous', 'transferred', 'finish', 'tracks', 'approval', 'always', 'census', 'Azula', 'Khodorkovsky', 'said', 'seeds', 'Tallari', 'Minutes', 'where', 'National', 'points', 'dog', 'object', 'Danish', 'standing', 'permission', 'Me', 'denoted', 'count', 'films', 'puppetry', 'course', 'blind', 'flow', 'baseball', 'David', 'allows', 'kingdom', 'Forces', 'Starting', 'military', 'available', 'Alfred', 'Chart', 'Montreal', 'Mrs.', 'infection', '16', 'emergency', 'cause', 'opportunity', 'shown', 'daughters', 'were', 'Portland', 'humans', 'n', 'Seattle', 'reaches', 'accident', 'Roadrunner', 'Epidexipteryx', 'Li', '61', 'need', 'Baby', 'composed', 'Toy', 'EP', 'Story', 'married', 'increasing', 'E', 'effects', 'huge', 'passing', 'meant', 'read', 'recorded', 'Gong', 'households', 'company', 'referred', 'Women', '-', '1918', 'something', 'descendants', 'Gotha', 'Saxe-Weimar', 'Ned', 'Sarah', 'episodes', 'Sunda', 'narrow', 'Jack', 'April', 'Hell', 'tourists', 'Road', 'admired', 'necessary', 'AD', 'theorem', 'prevent', 'making', 'Trophy', 'etc.', 'allergic', 'thistle', 'head', 'back', 'chose', 'Eddie', 'Fame', 'extinct', 'replacing', 'Instead', 'Hitler', 'Universal', 'include', 'body', 'du', 'Nakajima', 'claws', 'drivers', '1890', 'Smells', 'Wall', 'brain', '400', 'teeth', 'such', 'Sheamus', 'see', 'dorsal', 'pound', 'ahead', 'Saxony', 'Up', 'statistics', '56', 'honorary', 'Channel', 'offers', 'includes', 'Brazilian', 'shingle', 'holds', 'ill', '40', 'paid', 'machines', 'starting', 'James', 'They', 'cotton', 'assists', 'strong', 'lower', 'production', 'federal', 'reason', 'then', 'observer', 'stronger', 'sister', 'occur', 'categories', 'group', 'Losses', 'bits', 'common', 'east', 'off', '1975', 'revealed', 'oxygen', 'titled', 'interesting', 'Part', 'He', 'Physiology', 'environmental', 'aircraft', 'steel', 'form', 'character', 'possible', 'around', 'months', 'Geoffrey', 'American', 'Human', 'favor', 'variable', '27', 'series', 'School', 'stating', 'among', '1983', 'horizontal', 'ABC', 'absolute', 'won', 'FC', 'eliminated', 'possibly', 'video', 'passengers', 'vital', '2003', 'B', 'born', 'software', 'Rio', 'Way', 'fifteen', 'If', 'creating', 'Historical', '50', 'Louisiana', 'background', 'Section', 'green', 'bass', 'culture', 'sex', 'Rolling', 'usual', 'dark', 'Together', 'Al', 'Then', 'Goals', '1990', '2001', 'Confederation', 'ask', 'expansion', 'applications', 'soap', 'house', 'Komodo', 'article', 'Michigan', 'Museum', 'H', 'Pat', 'Paris', 'cities', 'really', 'industry', 'awards', 'Emmy', 'within', 'city', 'judges', 'designated', 'Thomas', '1960', 'Committee', 'dance', 'powder', 'Saturn', 'France', 'criticism', 'action', 'Greenwich', 'January', 'sequence', 'commanded', 'advanced', '1000', 'systems', 'Walter', 'official', 'contest', '.', 'riots', 'designer', 'commercial', 'Hockey', 'Bell', 'epinephrine', 'cat', '90', 'discovered', '3rd', 'Persia', 'expected', 'living', '2011', 'wrestling', 'spectral', 'rotation', 'so', 'alive', 'family', 'party', 'neighborhoods', 'Linux', 'Smith', 'holder', 'provincial', 'Teatro', 'minutes', 'President', 'happen', 'anaphylaxis', 'dice', 'means', 'Penguin', 'magazine', 'At', 'forms', 'hosted', 'lasted', 'composers', 'opponent', 'face', 'Hubble', 'genes', 'challenged', 'oz', 'habitat', 'multiple', 'Hydra', 'Swabia', 'dancer', 'memory', 'Victoria', 'Norfolk', 'category', 'sense', 'continental', 'Lewis', 'current', 'Rican', 'burned', 'power', 'Brazil', 'command', 'draws', 'roof', 'Hercules', 'subtropical', 'parent', 'albatrosses', 'rings', 'Nagorno-Karabakh', 'Eastern', 'Seven', 'Sometimes', 'angle', 'question', 'SDS', 'village', 'fight', 'camp', 'sugar', 'Tampa', 'chapter', 'July', 'name', '`', 'acting', 'equations', 'Wings', 'spending', 'Wales', 'contemporary', 'crew', 'fruits', 'big', 'environment', 'leads', 'Book', 'believe', 'Montgomery', 'Grace', 'finally', 'ever', 'committee', 'domestic', 'Live', 'string', 'black', 'prize', 'Fukushima', 'compounds', 'Toscanini', 'patients', '7', 'solvents', 'today', 'media', 'depth', 'hyssop', 'specific', 'no', 'owner', 'Hall', 'Collegiate', '1970s', 'urban', 'expedition', 'Chemical', 'fan', 'ceremonies', 'Music', 'army', 'able', 'rather', '1860', 'tribes', 'burial', 'tour', 'Draft', 'starred', 'facilities', 'Men', 'bat', 'Five', 'Association', 'hockey', 'hair', 'Slovenian', 'looking', 'ready', 'bank', 'delivered', 'strongest', '1896', 'argued', 'Oscar', 'failed', 'expression', 'bouts', 'exhibitions', 'Best', 'published', 'criteria', 'Cairo', 'UNESCO', 'installation', 'conference', 'lives', 'Save', 'call', 'never', 'format', 'complex', 'Lasker', 'inability', 'Blue', 'Alekhine', 'roll', 'Kong', 'Lady', 'House', 'spiritual', 'international', 'exact', 'stick', 'catalysts', 'agency', 'brings', 'Croatian', 'solid', 'facade', 'losing', 'refers', 'finished', 'Granville', 'contain', 'Heritage', 'consisting', 'Afterwards', 'Repnin', 'Benoit', 'top', 'weeks', 'Euclidean', 'Wregget', 'lit', 'support', 'George', 'Bloomberg', 'know', 'review', 'End', 'Productions', 'absorbed', 'constitutional', 'bacteria', 'five', 'songs', 'Year', 'composition', 'relation', 'Australia', 'explains', 'Amy', '35', 'repeated', 'wife', 'Molecular', 'or', 'Town', 'occasionally', 'rats', 'sovereign', 'panda', 'Rogers', 'Science', 'falling', 'trying', 'session', 'some', 'Turkey', 'dinosaurs', 'former', 'hash', 'Pictures', 'slow', 'Additionally', 'Manhattan', 'Muslims', 'dissolved', 'solo', 'gained', 'Alderney', 'ideas', 'decide', 'ocean', 'Symphony', 'port', 'came', 'paper', 'talk', 'sun', 'Orthodox', 'Wilde', 'Memories', 'neck', 'sexual', 'archive', 'directed', 'varies', 'Giovanni', 'nail', 'someone', 'creators', 'bond', 'train', 'Lapu-Lapu', 'Coast', '1940s', 'understand', 'Southworth', 'engines', 'orders', 'Ward', 'higher', 'Bateson', 'animal', 'Rangers', 'strand', 'WWF', 'Venice', 'containing', 'Obama', 'especially', 'All', 'household', 'NHA', 'Philip', 'players', 'Leafs', 'discovery', 'muscle', 'win', 'desire', 'banned', 'beyond', 'Raw', '...', 'Test', 'historical', \"'\", 'honor', '1976', 'secretary', 'West', 'snake', 'pups', 'successful', 'sound', 'Mary', 'master', 'Lombe', 'Pius', 'flowers', 'settled', 'by', 'normally', 'food', 'Santa', 'products', 'dropped', 'when', 'Sullivan', 'goddess', '=', 'Benjamin', '1920s', 'squid', 'increased', 'speakers', 'theoretical', 'galaxies', 'cm', 'Texas', 'doctors', 'had', 'On', 'Saint', 'now', 'refuses', 'Slinky', 'orbits', 'queen', 'friendship', 'flour', 'actors', 'brief', 'Wearmouth', 'grain', 'cold', 'showing', 'Umar', 'towards', 'below', 'guest', 'protests', 'Song', 'writer', 'response', 'large', 'Drew', 'continue', 'Ages', 'educational', 'Major', 'monastery', 'Hortons', 'piece', 'base', 'police', 'Disney', 'Director', 'Tweed', 'enemies', 'Bureau', 'Water', '8', 'Middle', 'friends', 'complete', 'Revolution', 'attack', 'attacks', 'layer', 'movies', 'performance', 'Jimmy', 'director', 'Upper', 'Altenburg', 'wood', 'again', 'morning', 'towns', 'connected', 'billion', 'basin', 'live', 'red', 'Broadway', 'safety', '1', '87', 'progressed', 'Ecuador', 'rock', 'ancient', 'Silverstone', 'pale', 'apart', '96', 'summer', 'types', 'Daniel', 'approved', '30', 'Commission', 'Friedrich', 'Until', 'Their', 'gather', 'Oyster', 'originally', 'Manitoba', 'inside', 'Manchester', '10th', 'Also', 'guard', 'doubling', 'Stevens', 'Ernestine', 'Western', 'charts', 'Line', '4', 'exactly', 'Maxwell', 'issue', 'explained', 'men', 'scripting', 'surprise', 'Of', 'ritual', 'meets', 'Region', 'reached', 'Historic', '1933', 'set', 'cutting', 'areas', 'plates', 'females', 'indicates', 'monument', 'Bristol', 'Wayne', 'Children', 'ballet', 'Vincent', 'borders', '2nd', 'dominated', 'king', 'appeared', '″', 'completely', '10,000', 'Mormons', 'prison', 'October', 'Milky', 'remains', 'Along', 'θ', 'most', 'trees', 'sand', 'thick', 'GF', 'heard', 'atoms', 'Sea', 'Lesser', 'butter', 'collect', 'sons', 'site', '18', 'Jane', 'Stephen', 'Prussian', 'shear', 'King', 'Edition', 'regions', 'markings', 'Great', 'bought', 'parties', 'mind', 'Adam', 'are', 'hosts', 'synthesis', 'serve', 'purpose', 'Creek', 'displays', 'wrote', 'ticket', 'white', 'curved', 'wind', 'built', ';', 'methods', 'agreed', 'entitled', 'original', 'tries', 'Kingdom', 'grow', 'speak', 'seeing', 'domain', 'EMUs', 'unblock', 'described', 'medicine', 'Halo', 'Tough', 'Republicans', 'sold', 'performing', 'lawyer', 'DNA', 'mix', 'Club', 'Hund', 'Mr.', 'nominated', 'spot', 'recognition', 'von', 'pictures', 'Ohio', 'development', 'Pride', 'sentence', 'seals', 'coins', 'heavy', 'Borgia', 'science', 'career', 'lost', 'Bear', 'poor', 'separated', 'T.', 'Borkum', 'beaches', 'December', 'Yale', 'City', 'arts', 'c.', 'paired', '1847', 'fluid', 'lakes', 'nickname', 'Milwaukee', 'lithium', 'simply', 'university', 'league', 'forest', 'Hyssop', 'transmitted', 'Lake', 'individual', 'established', 'threatened', 'except', 'quena', 'documents', 'formed', 'referee', 'graduated', 'ends', 'monster', 'single', 'linked', 'Norman', 'detail', 'seconds', 'successors', 'Wikipedia', 'Final', 'major', 'featured', 'houses', 'swimming', 'prepared', 'finale', 'total', 'Beatles', 'winner', '12', 'Saints', 'developing', 'theory', 'spring', 'sect', '1979', 'races', 'fell', 'store', 'meat', 'score', 'pin', 'every', 'nuclear', 'am', 'Assists', 'digital', '100', 'lay', 'consider', 'visitors', 'business', 'Sozin', 'film', 'widespread', 'panelists', 'vs.', 'columns', 'Turks', 'username', 'episode', 'electronic', '37', 'awarded', 'Wallace', 'while', 'Broadcasting', 'divorce', 'Many', 'Gold', 'Rome', 'expanded', 'pick', 'spent', '1956', 'influence', 'capital', 'Carey', 'tornado', '1912', 'Saarland', '</s>', 'variety', 'Machinima', 'personal', 'Steve', 'short', '1915', 'organizations', 'genetic', 'cool', 'successor', 'Little', 'electromagnetic', 'Sabellianism', 'victory', 'eating', 'window', 'significantly', 'taking', 'Armenian', 'nicknamed', 'Church', 'egg', 'looked', 'plant', 'Pan', 'so-called', 'writing', 'Desert', '1952', 'traditionally', '9', 'channel', 'Republic', 'specifically', 'Ontario', 'Albert', 'eighth', 'mountains', 'initially', 'quantum', 'joined', 'Ernest', 'Testament', 'equivalent', 'controlled', 'One', 'dry', 'broad', 'Her', 'test', 'historian', 'bad', 'board', '11', 'Three', 'onto', 'takes', 'Doctor', 'damaged', 'coat', 'Hahn', 'Edge', 'stayed', 'Nixon', 'been', 'Lifeline', 'Father', 'demonstrations', 'sent', 'drum', 'Tokyo', 'System', 'poetry', 'Priest', 'success', 'messages', 'Scotland', 'hundred', 'peat', 'Greater', 'Central', '1943', 'perform', 'endangered', 'wave', 'distant', 'Krashen', 'history', 'permanent', 'Roberts', '14', 'Quebec', 'situation', 'nuclei', 'Parqués', 'note', 'itself', 'three', 'look', 'guitar', 'Dog', 'dates', 'collection', 'against', 'growing', 'ruler', 'IBM', 'cultural', 'essay', 'Magic', 'heritage', 'another', 'Ain', 'Jesus', 'spirits', 'Tony', 'Reserve', 'limited', 'banks', 'views', 'Córdoba', 'I.', 'suburbs', 'foods', 'eaten', 'Ralph', 'ranging', 'Kaskaskia', 'speech', 'Area', 'program', 'dwarfs', 'desert', 'strengthen', 'feet', 'losses', 'presence', 'Congo', 'Dublin', 'Centre', 'Hamilton', 'tiny', 'Hot', 'grandfather', 'Universe', 'rulers', 'code', 'challenge', 'YouTube', 'space-time', 'French', 'getting', 'seems', 'tail', 'Tom', 'Bull', 'rainfall', 'instance', 'flowing', 'painter', 'Spain', 'hour', 'General', 'became', 'table', 'generally', 'matter', 'root', 'policy', 'friend', 'Susan', \"'ll\", 'administrators', 'bear', 'court', 'direction', 'titles', 'each', 'Canadian', 'fires', 'Bentley', 'bill', 'unusually', 'Louise', 'rights', 'William', 'Mario', 'controversial', 'railroad', 'Second', 'metals', 'than', 'cases', 'give', 'Horton', '1876', '1972', 'Mountains', 'station', 'traveled', 'Independence', 'boundaries', 'coffee', 'Death', 'Brittonic', 'bigger', 'road', 'market', 'provides', 'Group', 'fast', 'data', 'Shortly', 'Jackson', 'States', 'Ian', 'astronomers', 'with', 'yellow', 'organisms', 'Playoff', 'Census', 'Browne', 'the', 'Indian', 'Official', 'Collection', 'hydrogen', 'branches', 'League', 'Gough', 'distribution', 'cast', 'singers', 'Los', 'hill', 'chamber', 'constitution', 'm', 'vocal', '1980', 'daughter', 'legendary', 'Teletubbies', 'North', 'Soviet', 'administered', 'locally', 'probe', 'west', 'Latin', 'direct', 'hop', 'merged', 'sleep', 'troops', 'sundial', 'injury', 'unique', 'Iraq', 'pressure', 'serious', 'Bad', 'Down', 'policies', 'age', 'produce', 'going', 'Sciences', 'Tell-Tale', 'Airlines', 'cars', 'pass', 'That', 'line', 'Muddy', 'running', 'tell', 'villages', 'crowd', 'publications', 'skeleton', 'Individual', 'Mill', 'Gardstein', 'Between', 'behavior', 'Hill', '2012', 'critical', 'describing', 'agent', 'done', 'great', 'retired', 'No', 'jersey', 'Dauphin', 'Nix', 'plate', 'saw', 'leader', 'goes', 'territories', 'being', 'ruled', 'GA', 'surrounding', 'drop', '1903', 'silver', 'argument', 'observable', 'Verwoerd', 'settlement', 'Albatross', 'revised', 'difference', 'birds', 'second', 'rice', 'André', 'imprisoned', 'clusters', 'Hughes', 'Arab', 'skin', '19', 'stems', 'principle', 'panel', 'Bank', 'Races', 'word', 'chairman', 'covered', 'dishes', 'GP2', 'electricity', 'defined', '1986', 'Ozai', 'Mayor', 'stopped', 'fields', 'play', 'H.', 'Lucy', 'NFL', 'Pluto', 'tools', 'Afghanistan', 'Iranian', 'design', 'hand', 'disaster', 'moved', 'Liberal', 'Aang', 'nearest', 'block', 'earthquake', 'Because', 'Land', 'municipalities', 'storm', 'Sulphur', 'surviving', 'Charon', 'stands', 'tree', 'bulletin', 'Lord', 'gets', 'unit', 'Italy', 'why', 'beating', 'Played', 'prime', '1871', '18th', 'continent', 'Petersburg', 'March', 'car', 'ending', '70', 'Radio', 'change', 'Records', 'traffic', '%', 'dragon', 'citizen', 'paintings', 'otherwise', 'relations', 'Parliament', '2', 'Arizona', 'statement', '1978', 'turns', 'Casino', 'taste', 'Flohr', 'one', 'I', 'hospital', 'Britten', 'Network', 'grade', 'Air', 'start', 'soft', 'describe', 'Sotho', 'cliffs', 'represented', 'Pennsylvania', 'Top', 'step', 'under', 'November', 'methane', 'density', '2,000', 'touring', 'potential', 'together', 'grace', 'Stone', 'wrong', 'returning', 'interior', 'Stiles', 'association', 'they', 'identify', 'territory', '1981', '1950', 'chemist', 'Eddington', 'Thuringia', 'Emery', 'bodies', 'kg', 'opened', 'Mungo', 'broken', 'depression', 'enough', 'Charles', 'carbon', 'Sun', 'boy', 'selling', 'hole', 'Heart', 'take', 'more', 'senior', 'Azerbaijan', 'bands', 'assumed', 'contributions', 'risotto', 'Hart', 'Honor', '2007', 'highly', 'Christ', 'Ndebele', 'tried', 'hide', 'passes', 'Desiro', 'cats', 'fans', 'deal', '²', 'mother', 'Kepler-22b', 'stage', 'ceremony', 'eldest', 'brother', 'fantasy', 'goal', 'amounts', 'symbol', 'service', 'lake', 'mainly', 'primarily', 'measures', 'rockets', 'Pyrénées-Atlantiques', 'accepted', 'enter', 'autumn', 'immunity', 'pair', 'sing', 'enforced', 'glass', 'Vezina', 'suicide', \"O'Kelly\", 'biology', 'Aragon', 'Quint', 'Celtic', 'instruments', 'L', 'GP', 'smallest', 'Institute', 'later', 'Copper', 'Buford', 'struggle', 'expensive', 'raced', 'Weimar', 'Chris', 'to', 'upon', 'creative', 'Rita', 'Championships', 'Indians', '1985', 'God', 'English', 'St', 'similar', 'semi-finals', 'Seoul', 'theater', 'priest', 'suburban', 'waters', 'far', 'alongside', 'starts', 'determined', 'Wagner', 'buried', '1798', 'experiment', 'Billboard', 'nothing', 'users', 'Football', 'X', 'Toad', 'counted', 'planning', 'blue', 'laid', 'Nobel', 'Wilson', 'With', 'youngest', 'principles', 'PB', 'da', 'videos', 'parable', 'eleven', 'Iberia', 'chemistry', 'scheme', 'Poland', 'greatest', 'Americans', 'follows', 'alliance', 'access', 'pattern', 'cipher', 'Homo', 'confirm', 'smooth', '160', 'cultures', 'War', 'Capablanca', 'position', 'Philippines', 'Is', 'Joe', 'comparison', 'fur', 'Einstein', 'cross', 'classes', 'mean', '54', 'Moscow', 'fungi', 'Austrian', 'abroad', 'project', 'paint', '250', 'Renaissance', 'reading', 'Dragon', 'typically', 'males', 'Cuba', 'Janeiro', 'animated', 'that', 'Korean', 'Research', 'Strait', 'religious', 'navigation', 'tip', 'Kevin', 'metal', 'foreign', 'cyclone', 'roots', 'songwriter', 'easy', 'Martha', 'franchise', '1799', 'up', 'This', '1894', 'Bruins', 'weapons', 'novel', 'traveling', 'biologist', 'Ryan', 'diameter', 'Within', 'save', 'contributed', 'possibility', 'Allan', 'Bush', '32', 'Lightning', 'Ties', 'eventually', 'moons', 'fine', 'comes', 'seat', 'Freedom', 'newspapers', 'evening', 'Hogan', 'exception', 'consistent', 'provide', 'changed', 'Cocos', 'seen', 'Ireland', 'until', 'Sharik', 'Mendeleev', 'factory', '34', 'exchange', 'likely', 'stay', 'From', 'campaign', 'Jim', 'adult', 'rank', 'grew', 'elected', 'phrase', 'impact', 'September', 'municipal', 'farm', 'number', 'Triple', 'Egyptian', 'printed', 'distinguish', 'Stronda', 'also', 'football', 'larger', 'planet', 'have', 'chemical', 'expressed', '1954', 'knocked', 'twenty', 'preferred', 'Do', 'bananas', 'und', 'she', 'human', 'legs', 'Tamil', 'mountain', 'Jacques', 'brought', 'Territory', 'terrorist', 'FIFA', 'mathematics', 'Eventually', 'tenth', 'Penguins', 'Champion', 'Hyde', 'kept', 'dogs', '1\\\\/2', 'book', 'flooding', 'peace', 'attention', 'Richard', 'physical', 'Monty', 'III', 'message', 'Bill', 'Westminster', 'library', '1881', 'closed', '1904', 'die', 'speaker', 'teacher', 'carried', 'simple', 'Ray', 'MD-95', 'Muslim', 'precise', 'only', 'J.', 'Nicholas', 'share', 'come', '1971', 'concept', 'what', 'Undertaker', 'how', 'description', 'charges', 'less', 'neighborhood', 'empire', 'long', 'marine', 'injuries', 'birth', 'Verónica', 'inspired', 'behavioral', 'additional', 'occurred', 'edition', 'Frederick', 'religion', 'After', 'collections', 'invasion', 'Born', 'London', 'man', 'Grammy', 'protein', 'Indonesia', 'weighs', 'list', 'build', 'architecture', 'branch', 'D', 'surgery', 'Treaty', 'Stalin', 'clearly', 'By', 'Flyers', 'RAM', 'fair', 'double', 'Lou', '1772', 'launched', 'Flores', 'effectively', 'much', 'although', 'went', 'enemy', 'Society', '39', 'scene', 'Kutch', 'Black', '1946', 'eastern', 'widely', 'Jr.', 'Common', 'arrested', 'a', 'Square', 'Euler', 'productions', 'Hollywood', 'Massachusetts', 'Mochrie', 'Moore', 'genera', 'sticks', 'Wood', 'clarinets', 'Richter', 'forecasts', 'oldest', 'Michael', 'Pool', '700', 'airport', 'Colombia', 'D.C.', 'Awards', 'magnitude', 'Bernard', 'move', 'hitting', 'poet', 'artist', 'trained', 'diving', 'Actors', 'issuing', 'revenue', 'Alien', 'His', 'Formula', 'survey', 'cavity', 'camps', 'competed', 'survived', 'P.', 'depending', 'flowering', 'quickly', '1832', 'Young', 'Rapids', 'Max', 'Ivan', 'designed', '1974', 'holding', '1921', 'flows', 'turn', 'culturally', 'mile', 'touch', 'extend', 'waves', 'dwarf', 'mass', 'mph', 'toes', 'upper', 'contrast', 'Money', 'Armenia', 'Space', 'Heine', 'feeding', '1936', '500', 'Matthew', 'earned', 'varieties', 'symbols', 'element', 'night', 'low', 'hyperbolic', 'content', '1569', 'Kai', 'Ancient', 'Miles', 'techniques', 'about', 'officials', 'ice', 'districts', 'exposed', 'publishers', 'maneuver', 'working', 'appears', 'Bucaram', 'acts', 'things', 'term', 'Pope', 'violence', 'activist', '66', 'seal', 'Katrina', '14th', 'Apollo', 'finds', 'scale', 'proposed', 'Oregon', 'front', 'in', 'Center', 'Jewish', 'Fisher', 'margin', 'combined', 'executive', 'Edward', 'Century', 'As', 'floating', 'general', 'Solar', 'Slade', 'diseases', 'stars', '1902', 'document', 'Boston', 'hip', 'Masters', 'early', '1957', 'Vienna', 'park', 'Zone', 'fictional', 'gift', 'Japanese', 'Stoiber', 'Peace', 'Keith', 'Francesco', 'Saint-Denis', 'Syria', 'Trinity', 'weak', 'Pearson', 'little', 'Bishop', 'learn', 'ten', 'example', 'The', 'Louis', 'division', 'radiation', 'classified', 'Main', 'basketball', 'Russian', 'traded', 'vocals', 'Norway', 'walking', 'taxonomy', 'Board', '2005', 'tusks', 'Colombian', 'sought', 'reach', 'toward', '10', 'language', 'U.S.', 'host', 'greatly', 'flare', 'visa', 'user', 'Large', 'vehicle', 'late', 'accompanied', 'saves', 'arrives', 'Stewart', 'crowned', 'if', 'Trojan', 'prayer', '1984', 'bring', 'useful', 'public', 'planted', 'magnetic', 'fish', 'Abbey', 'Samuel', 'Florence', 'copies', 'administrative', 'Jones', 'mountainous', 'already', 'degrees', 'consists', 'representatives', 'observed', 'Matt', 'England', 'Peninsula', 'recording', 'flying', 'Oracle', 'protection', 'epidemiology', 'thin', 'voice', 'Wisconsin', 'African', 'Court', 'Flora', 'older', 'crossing', 'deep', '17th', '1953', 'populated', 'runs', 'Contest', '&', '−', 'as', 'frequent', 'period', 'your', 'Not', 'regulations', 'Toucan', 'tall', 'you', 'bones', 'audience', 'hearing', 'narrator', 'Day', 'led', 'nature', 'took', 'radical', 'About', 'lead', 'Mellor', 'building', 'authorities', 'asked', 'into', 'Goombas', 'survive', 'Usher', 'critic', 'Sebastian', 'UK', 'Stanford', 'practice', 'earlier', 'publicly', 'lot', 'Mogador', 'May', 'leaving', 'gene', '1776', 'usually', 'border', '1937', 'onwards', 'royal', 'shower', 'forests', 'silk', 'Big', '1897', '1831', 'y', 'player', 'Pearl', 'written', 'their', '1960s', 'Physics', 'display', 'maps', 'China', 'Venda', 'Ukrainian', 'fossil', 'law', 'endemic', 'Paul', 'northwest', 'work', 'measure', 'Frank', 'gas', 'Ottawa', 'Team', 'rural', 'status', 'lines', 'figure', 'communities', 'fought', 'Turkish', 'oppida', 'Luke', 'confirmed', 'dial', '1939', 'death', 'details', '31', 'Palaeolithic', 'artists', 'tennis', 'Conference', 'Act', 'Falun', 'listed', 'therefore', 'weather', 'Göttingen', 'relativity', 'Asia', 'existence', '24', 'Sunderland', 'Arthur', 'prior', 'Ice', 'round', 'husband', 'virtual', 'baby', 'Jefferson', 'wounded', 'regional', '1999', 'states', '1982', 'Prize', '1973', 'Tristan', 'During', 'like', 'send', '1919', 'further', 'began', '17', 'East', 'Athens', 'Stingrays', 'title', 'appearance', 'bread', 'watch', 'Maple', 'intensity', 'fibers', 'services', 'officers', 'Nuclear', 'Eisenstein', 'Baker', 'Dynasty', 'faster', 'inmates', 'children', 'garden', 'rarely', 'claimed', 'jail', 'forming', 'filming', 'brown', 'function', 'roughly', 'consisted', 'Pakistan', 'Urban', 'Grose', 'Otunga', 'chess', 'estate', 'civil', 'plants', 'bears', 'hard', 'California', 'avoid', 'shortly', 'Angle', 'fire', 'Scottish', 'minister', 'good', 'accused', 'bishop', 'bonds', 'Star', 'river', 'using', 'press', 'processes', 'eat', 'Garden', 'texts', 'percentage', 'pepper', 'Australian', 'Some', 'Mountain', 'sperm', 'introduce', 'rare', 'nation', 'singles', ',', 'favored', 'Division', 'gave', 'Wins', 'Meanwhile', 'climate', 'driver', 'since', 'Prussia', 'Before', 'Defense', 'Clarkson', 'der', 'Keynes', 'conflict', 'And', 'six', 'blood', 'weight', 'Gaelic', 'Verde', '115', 'temperatures', 'meteors', 'Princess', 'regular', 'celebrated', 'Infantry', 'State', 'developed', 'drink', 'arena', 'accounts', 'actress', 'Report', 'Dead', 'wins', 'island', 'completed', 'Vladimir', 'chicks', 'Native', 'free', 'Minor', 'mythology', 'years', 'needs', 'Police', 'government', 'Teeth', 'applied', 'bottom', '1992', 'Neptune', 'increase', 'What', 'boxes', 'literally', 'fifty', 'meristems', 'fifth', 'organization', 'Bamberga', 'Golden', 'families', 'l.', 'decided', '2009', 'places', 'Fallaci', 'local', 'learned', 'method', 'brightness', 'capacity', 'silicon', 'boundary', 'conditions', 'given', '1800', '36', 'sequel', 'disc', 'lung', 'young', 'Most', 'metric', 'luminosity', 'knew', 'cosmological', 'everything', 'Saxon', 'Graham', 'estimated', 'Orchestra', 'due', 'northern', 'tradition', 'museum', 'Soon', 'designation', 'Only', 'Finnix', 'Rights', 'History', 'visual', 'razor', 'changes', 'stock', 'Emperor', 'pop', 'atmosphere', 'will', 'supported', 'named', 'Islamic', 'role', 'politician', 'travel', 'Chief', 'remained', 'championship', 'identified', 'Light', 'flutes', 'Lombok', 'components', 'cost', 'our', 'mm', 'founding', 'all', 'characteristics', 'residential', 'financial', 'Oprah', 'path', 'playing', 'x', 'Survey', 'Ferrer', 'newspaper', '1905', 'bird', 'jaw', 'circular', 'Italians', 'books', '1901', 'surrounded', 'Army', 'High', 'plans', 'Several', 'followed', 'Dr.', 'partly', 'way', 'overall', 'Lauper', 'does', 'floor', 'care', 'lived', 'Later', 'belief', 'Storm', 'partner', 'network', 'community', 'continues', 'ingredients', 'Cricket', 'Vancouver', 'job', 'Quito', 'Nintendo', 'experimental', 'alternative', 'Welsh', 'belt', 'Earth', 'tropical', 'granted', 'outstanding', 'effect', 'telling', 'succession', 'demands', 'canceled', 'Evidence', '1969', 'issues', 'Restoration', 'rocks', 'animation', 'SmackDown', 'Due', 'Organisation', 'Orange', 'Cambridge', 'Modern', 'Taylor', 'Virginia', 'Popular', 'Albania', 'stores', 'tongue', 'formation', '25', 'return', 'Sound', 'represent', 'wings', 'Permian', 'Albanians', 'attempts', 'Bryant', 'San', 'daily', 'event', 'technology', 'iOS', 'retirement', 'Dalmatia', 'causes', 'John', 'Hugh', 'Edmonton', 'Series', 'Prefecture', 'last', 'refused', 'met', 'driven', 'shot', 'del', 'Aslan', 'depends', '1792', 'F.', 'received', 'injured', 'involves', 'Entry', 'an', 'decision', 'Slovenes', \"''\", 'track', 'G', 'weakened', 'scoring', 'needed', 'nude', 'observations', 'Governess', 'performances', 'ones', 'Fernando', 'Ocean', '33', 'Redemption', 'write', 'ranked', 'felt', 'passenger', 'education', 'existing', 'worked', 'attempted', 'claw', '``', 'positive', 'old', 'fruit', 'cover', 'la', 'stone', 'Denmark', 'Alexander', 'Cink', 'activities', 'infected', 'Following', 'wall', 'male', 'on', 'armed', 'characters', 'Iron', 'In', 'Cornell', 'occupation', 'Hunter', 'Africa', 'powerful', 'cabinet', 'Electoral', 'St.', 'her', 'Girls', 'movements', 'encountered', 'author', 'A', 'ability', 'Elizabeth', 'impossible', 'research', '15', 'Aboriginal', 'Kori', 'learning', 'Interstate', 'particularly', 'Mediterranean', 'adapted', 'b.', 'Bach', 'sessions', 'Building', 'online', 'almost', 'effort', 'Ernabella', 'Food', 'Malay', 'operas', 'ancestors', 'produced', 'century', 'love', 'ultraparallel', 'child', 'Morpho', 'applicant', 'fiber', 'Model', 'fame', 'say', 'Pérez', 'works', 'objects', 'Constitution', 'formerly', 'beat', 'weber', 'Hoffmann', 'strength', 'from', 'southwest', 'Dance', 'woman', 'global', 'times', 'Chinese', 'focus', 'reforms', '1968', 'Georgia', 'managed', 'cave', 'Sports', 'fighting', 'Piper', 'telescope', 'Corporation', 'concert', 'worn', 'Douglas', 'aired', 'Assembly', 'shoots', 'singer-songwriter', 'asteroid', 'Mansfield', 'seas', 'starter', 'retrograde', 'drafted', 'minor', 'Citizens', 'greater', 'eggs', 'text', 'binary', 'Canada', 'Your', 'Francisco', 'middle', 'studying', 'Sunday', 'judge', 'News', 'has', 'class', 'enjoyed', 'setting', 'main', 'Harris', 'Man', 'killed', 'Israel', 'considered', 'Mayflower', 'Academy', 'bright', 'rich', 'amount', 'deposited', 'Swedish', 'metropolitan', 'Hamburg', 'neutral', 'van', 'returned', 'carry', 'Ballard', 'nominations', 'Tennessee', 'Match', 'folk', 'Service', 'Bros.', 'dodder', 'slave', 'captured', 'Dominican', 'chimpanzee', 'represents', 'Willis', 'agencies', 'visible', 'recognized', 'allowed', 'heat', 'even', 'connecting', 'TV', 'follow', '+', 'kill', 'maximum', 'died', 'immigration', 'Queensland', 'i.e.', 'contains', 'internal', 'currents', '!', 'because', 'hosting', 'orchestra', 'Civil', 'arrived', 'help', 'Gordon', 'Ann', 'Wii', 'Cavan', 'hound', 'newly', 'church', 'parliament', 'sales', 'Stonewall', 'modern', 'sea', 'started', 'operations', 'Jerusalem', 'slowly', 'Rory', 'Horowitz', 'giving', 'Chicago', 'perfect', 'Tyndale', 'Medicine', 'keep', '1917', 'Istria', 'controls', 'Persian', 'Theatre', 'website', '1948', 'Herbert', 'certain', 'small', 'club', 'Budapest', 'displacement', 'sites', 'concerns', 'Illinois', 'fights', 'gone', 'FRS', 'locations', 'thixotropic', 'Public', 'February', 'meeting', 'Handel', 'order', 'occupied', 'threw', 'fuel', 'makes', 'do', 'Duke', 'Ross', 'girl', 'buildings', 'thereafter', 'Federation', 'parallel', 'terms', 'damage', 'intersect', ':', 'Die', 'offer', 'Johann', 'automatically', 'A.', 'sides', 'is', '?', 'happy', 'Leonid', 'award', 'town', 'ran', 'connection', 'Hawks', 'Haven', 'governing', 'legend', '\\\\*', 'Railways', 'rules', 'dead', 'ultimately', 'son', 'wing', 'Arnold', 'prominent', 'transport', 'resulted', 'traditional', 'active', 'Met', 'Macquarie', 'contract', 'sure', 'classical', 'professional', 'here', '2008', 'Forest', 'apply', 'Power', 'Seal', 'fundamental', 'trip', 'Abu', 'clay', 'decades', 'knowledge', 'Yugoslavia', 'remaining', 'Lloyd', 'street', 'finding', 'feed', 'according', 'Rhine', 'German', 'Ceallaigh', 'illegal', 'Roy', 'Punk', 'demolished', '1867', 'moving', 'islands', 'separate', 'mainland', 'mortar', 'administration', 'engraved', '1816', 'dielectric', 'pain', '1920', 'fee', 'cards', 'politics', 'International', 'over', 'approach', 'rain', 'least', 'feathers', 'explorer', 'tower', 'Today', 'Christianity', 'Curtis', 'Over', 'periods', 'ring', 'evolution', 'pairs', 'Next', 'NY', 'information', 'Detroit', 'warning', 'stimuli', 'visited', 'officially', '$', 'worship', 'Slovenia', 'replacement', 'fact', 'Tito', 'Cup', 'Rica', 'Palace', 'Under', 'risk', 'stories', 'reform', 'Castile', 'adopted', 'wish', 'Elijah', 'Anne', 'seats', 'found', 'Mike', 'becoming', 'inhabitants', 'tests', 'page', 'case', 'near', 'picked', 'Philadelphia', 'attacked', 'thing', 'V', 'entering', 'Tim', 'kilometres', 'M.', 'painted', 'DC', 'whole', 'Hildburghausen', 'couple', '1928', 'add', 'Pacific', 'C', 'games', 'closest', 'quality', 'get', 'heart', 'allow', 'vote', 'Orton', 'Sabellius', 'Windham', 'fluids', 'Delbrück', 'copy', 'Beach', 'opinion', 'claim', 'importance', 'hemisphere', 'sort', 'finishing', 'plane', 'beach', 'Fischer-Tropsch', 'reported', 'poem', 'end', 'circuit', 'Time', 'documentary', 'governor', 'skull', 'per', 'Circuit', 'languages', 'owners', 'theories', 'next', 'its', 'performed', 'Although', 'either', 'Nova', 'Avatar', 'Trieste', 'Northern', 'Valencia', 'Morocco', 'Connecticut', 'presented', 'Mexican', 'ginger', 'size', 'national', 'highlighted', 'evidence', 'disappeared', '1935', 'liquid', 'showed', 'nations', 'Systems', 'There', 'debut', 'hundreds', '1962', 'di', 'analysis', 'glands', 'Force', 'Queen', 'life', 'election', 'biggest', 'Council', 'winter', 'tournaments', 'piano', 'first', 'Kubrick', \"n't\", 'originated', 'Baltimore', 'Galileo', 'walls', 'Shiva', 'IDEA', 'remain', 'bronze', 'historic', 'Southern', 'hold', 'T', 'founder', 'taught', 'causing', 'organic', 'divisions', 'cathedral', 'news', 'tag', 'Nazi', 'According', 'Guerrero', 'divided', 'parents', 'reaction', 'rocky', 'signed', 'proved', 'trials', 'naming', 'hind', 'Hearts', 'Kane', 'genus', 'starring', 'km', 'visit', 'limits', 'events', 'August', 'respond', 'fewest', 'winning', 'thousands', 'Jericho', 'An', 'Despite', 'wheat', 'center', 'Turnpike', 'introduced', 'explanation', 'Union', 'make', 'Bay', 'champion', 'founded', 'authorized', 'TLC', 'commonly', 'covers', 'Teams', 'DeBakey', 'stadium', 'through', 'card', 'hammerhead', 'cobra', 'sections', 'Salzburg', 'key', 'Super', 'Ranford', 'relationship', 'turned', 'doctor', 'week', 'sees', 'comet', 'R.', 'writes', 'evil', 'Will', 'interview', 'tells', 'Xbox', 'taken', 'did', 'climbing', 'shadow', 'immigrants', 'longer', '46', 'Son', 'citizens', 'television', 'sailed', 'hit', '1931', 'trophy', 'notably', 'Keeling', 'mechanism', 'Tigers', 'date', 'Democratic', 'external', 'season', 'briefly', 'permanently', 'goals', 'Derby', 'printing', 'It', 'ground', 'Keel-billed', 'Maria', 'curve', 'region', 'Arena', 'suggests', 'mid', '600', 'Barry', 'roles', 'degree', 'Tropical', 'appointed', 'Poe', 'Country', 'contestants', 'nearby', 'IV', 'Elementary', 'CNRS', 'portrait', 'orbit', 'owned', 'keyboard', 'influenced', 'palate', 'Even', 'Coe', 'Emanuel', 'gradually', 'Del', 'thrown', 'coal', 'solar', 'molecules', 'combination', 'rose', 'determine', 'Other', 'suggested', 'Medici', 'Republican', 'Class', '1949', 'structure', 'believed', 'once', 'ancestry', 'Costa', 'fertility', 'forced', 'ago', 'scholarship', 'choir', '(', 'sellers', 'Minister', 'names', 'directly', 'cycle', '0', 'theaters', 'Virgin', 'Taiwan', 'mi', 'Ruth', 'which', 'calls', 'Moeran', 'housed', 'caused', 'Jayne', '1st', 'Caesar', 'cyclones', 'Edmund', 'training', 'chain', 'blocked', 'Dark', '2014', 'hours', 'rocket', 'true', 'shows', 'charge', 'shells', 'destroy', 'II', 'pinned', 'winds', '1.5', 'Romans', 'derived', 'De', 'county', 'high', 'genetics', 'Winter', 'reasons', 'land', 'Prime', 'Last', 'result', 'Narnia', 'La', 'Harry', 'asteroids', 'putting', 'latter', 'Denis', 'Festival', 'Press', 'Island', 'Carl', 'musicians', 'independence', 'Irish', 'forward', 'Antioquia', 'chief', 'algae', 'Churchill', 'beauty', 'draft', 'Master', 'knock', 'tuberculosis', 'earth', 'minerals', 'roads', 'extinction', 'Game', 'indoor', 'interact', 'looks', 'witch', '1833', 'colors', 'Bavaria', 'star', 'plays', 'battle', 'Wars', 'cricket', '1843', 'behind', 'predicted', 'Greek', 'different', 'manager', 'Huxley', 'produces', 'calculated', 'beats', '1930', '1942', 'arms', 'Among', 'Jason', '2002', 'Kentucky', 'burn', 'Such', '60', 'Blood', 'selected', 'topped', '1900', 'section', 'drive', 'independently', 'asks', 'banana', '1934', 'l', 'personality', 'it', 'musician', 'property', 'Sultan', 'partition', 'thought', 'Prior', 'Dattatreya', '19th', 'Croatia', 'km\\\\/h', 'Nine', 'Dawson', 'defending', 'stated', 'nose', 'Deianeira', 'actually', 'Miyamura', 'cook', 'Photovoltaic', 'staff', 'tourist', '20th', '1886', 'Russia', 'mouth', 'shared', 'Andrew', 'understanding', '1941', 'Roman', 'vegetation', 'MW', 'study', '1988', 'Arabic', 'moon', 'Lion', 'snow', 'teams', 'salad', 'Ali', 'ethnic', 'composer', 'economy', 'Stanley', 'important', 'soon', 'Korea', 'Special', 'numerous', 'point', 'inches', 'Plymouth', 'e.g.', 'Inn', 'guilty', 'chart', 'Potts', 'sang', 'BC', 'stand', 'Punjab', 'famous', '5', 'psychology', 'sweet', 'population', 'dealt', 'movie', 'Carnegie', 'Cook', 'split', 'largely', 'cooked', '„', 'Rose', 'bed', 'often', 'altitude', 'ancestral', 'safe', 'vary', 'break', 'wild', 'shape', 'New', 'moderate', 'Mikhail', 'female', 'chert', 'olive', 'gravity', 'movement', 'consent', 'motion', 'stance', 'species', 'held', 'previously', 'filmed', 'target', 'search', 'sum', 'native', 'segment', \"'m\", 'Washington', 'universities', 'First', 'Saturday', '2004', 'Austria', 'Ed', 'must', 'presidents', 'feud', '1906', 'oral', 'Olympics', 'constructed', 'Spanish', 'whose', 'part', 'temple', 'approximately', 'Two', 'Pts', 'Frankfurt', 'affect', 'called', '1963', 'Powers', 'casinos', 'Dutch', 'portion', 'delayed', 'Henry', 'better', 'Pasha', 'foot', 'down', 'Four', 'killing', 'material', 'metres', 'growth', 'various', 'versions', 'fresh', 'pieces', 'says', 'spectrum', 'We', 'extended', '1994', 'concentration', 'length', 'run', 'launch', 'Bly', 'spoken', 'intended', 'defeat', 'wants', 'subject', 'followers', 'Olah', 'Province', 'Mojave', 'record', 'Social', 'just', 'elements', '\\\\/', 'nine', 'area', 'schools', 'honey', 'Werriwa', 'those', 'shallow', 'dragons', 'chocolate', 'organometallic', 'kind', 'Palmer', 'download', 'forces', 'technique', 'Ben', 'ordered', 'department', 'Florida', 'coach', 'comedy', 'Dunham', 'outdoor', 'four', 'obtained', 'song', 'convection', 'responsibility', 'Sindh', 'Navy', 'chansons', 'camera', 'Jupiter', 'singing', 'across', 'view', 'but', 'Whose', 'civilian', 'Villa', 'act', 'sunlight', 'ft', 'Love', 'bridge', 'chromosomes', 'war', 'compare', 'Video', 'close', 'Labor', 'America', 'railway', 'Carolina', '1929', 'Guild', 'Havana', 'Khan', '8th', 'inner', 'Communist', 'compared', 'rise', 'Egypt', 'shaft', 'pregnant', 'Gallery', 'structures', 'same', 'himself', 'Hargitay', 'José', 'scales', 'Joyce', '1967', 'studies', 'volcano', '102', 'Each', 'District', 'primary', 'normal', 'technical', 'acted', 'serves', 'picture', 'colonial', 'centimetres', 'scientific', 'twentieth', 'raised', 'sometimes', 'would', '59', 'Sheik', 'iron', 'extensive', '1895', 'specimens', 'province', 'longest', 'added', 'coast', 'regard', 'Old', 'cell', 'Edgar', 'criminal', 'highest', 'requires', 'Harrison', 'Picture', 'soldier', '1955', 'designs', 'credited', 'measured', 'any', 'comedian', 'contact', 'McDonnell', '5000', 'having', 'Writers', 'Hulk', 'Goldberg', 'Number', 'basic', 'studied', 'Graves', 'CR', 'Ayyavazhi', 'Rainbow', 'attempt', 'office', 'interpretation', 'though', 'route', 'told', 'Medal', 'uses', 'words', 'release', 'Marathon', 'Against', 'dynasty', 'counties', 'faith', 'flag', 'Cena', 'flat', 'Mark', 'horse', 'Cebu', 'visiting', 'Rumble', 'bout', 'Tod', 'journalist', 'political', 'Lubbock', 'condition', 'List', 'goaltender', 'RNA', '300', 'helps', 'Lee', 'lining', 'temperate', 'father', 'Christmas', '1958', 'yet', 'Pink', 'No.', 'chance', 'influential', 'who', 'grows', 'annual', 'Empire', 'entire', 'Atlantic', 'engineering', 'Wrestling', 'odd', 'Hospital', 'N', 'Party', 'private', 'tasks', 'Caribbean', 'efforts', 'dated', 'largest', 'populations', 'modified', 'water', 'happens', 'Moon', 'Kalliope', '1914', 'champions', 'Constantinople', 'agreement', 'Department', 'formula', 'familiar', 'Bormenthal', 'polar', 'mortars', 'tournament', 'Coffee', 'protect', 'choose', 'placed', 'band', '49', 'asymptotic', '°', '1977', 'Norderney', 'created', 'mill', 'Desiros', 'between', 'grams', 'theme', 'Inc.', 'extreme', 'US', 'was', 'interest', 'selection', 'GRB', 'Islands', 'volcanic', 'square', 'breathing', 'replaced', 'Cross', 'popularity', 'occasions', 'standard', 'However', 'Bridge', 'novels', 'allowing', 'height', 'medal', 'popular', 'source', 'interested', 'peak', 'eight', 'year', 'we', 'nearly', 'protected', 'elections', 'themselves', 'Metropolitan', 'want', 'People', 'changing', 'destroyed', 'Minerva', 'orange', 'wardrobe', 'Julius', 'literature', 'database', 'fourth', 'medical', 'Hmong', 'Green', 'force', 'them', 'Patroclus', 'school', 'typical', 'giant', 'circulation', 'apparent', 'interfered', '1938', 'Bredevoort', 'More', 'final', 'whom', 'Parramatta', 'Congress', 'there', 'de', 'painting', 'students', 'Professor', 'Lager', 'Vesta', 'Nexus', 'vessels', 'Miami', 'sentenced', 'stages', 'galaxy', 'Olympic', 'et', 'pianist', 'liked', 'edge', 'Futureheads', 'Here', 'Around', 'shop', 'territorial', 'Abbot', 'teaching', 'tallest', 'Mormon', '200', 'Orndorff', 'grown', 'dinosaur', 'homes', 'statues', 'reigning', 'UTC', 'contained', 'C.', 'indigenous', 'social', 'fossils', 'sell', 'he', 'box', 'scheduled', 'refer', '1892', 'Sergei', 'signs', 'these', 'Kurt', 'negative', 'Ellison', 'sitting', 'team', 'Zealand', 'radio', 'mast', 'provinces', 'Another', 'Zuko', '22', 'Betty', 'played', '1964', 'brothers', 'TLRs', '1925', 'closely', 'Tour', 'value', 'For', 'before', '1996', 'writers', 'fly', 'constant', 'Pocahontas', 'extension', 'Albatrosses', 'themes', 'happened', 'Sichuan', 'watches', 'materials', 'Socialist', 'supporters', 'These', 'Muhammad', 'real-time', 'existed', 'calling', 'Venter', 'Original', 'shorter', 'Zeus', 'WHL', 'belonged', 'notable', 'flight', 'NHL', 'Count', 'Le', 'of', 'postulate', 'Catherine', 'currently', 'hunted', 'Eleanor', 'bone', 'Television'}\n"
     ]
    }
   ],
   "source": [
    "print(model.words) # list of words in dictionary"
   ]
  },
  {
   "cell_type": "code",
   "execution_count": 31,
   "metadata": {
    "collapsed": true
   },
   "outputs": [],
   "source": [
    "model = fasttext.load_model('model.bin')"
   ]
  },
  {
   "cell_type": "code",
   "execution_count": 33,
   "metadata": {},
   "outputs": [
    {
     "name": "stdout",
     "output_type": "stream",
     "text": [
      "[-0.13336193561553955, 0.057026419788599014, 0.19542048871517181, 0.3340635895729065, 0.3934233486652374, 0.276229590177536, -0.07180769741535187, 0.14209817349910736, 0.22387604415416718, 0.07732788473367691, -0.20587332546710968, -0.0952780470252037, 0.21680784225463867, 0.007696175016462803, 0.12927229702472687, -0.2203337401151657, 0.07519716769456863, -0.06052843853831291, -0.05385187268257141, 0.45915764570236206, 0.14243116974830627, 0.0012279789661988616, -0.16569334268569946, 0.06221349164843559, 0.02319209836423397, 0.40907829999923706, -0.2132294476032257, -0.448566198348999, -0.14758740365505219, -0.16811197996139526, 0.05295282229781151, 0.10073014348745346, 0.4013423025608063, -0.03462575376033783, -0.1045646071434021, -0.05837021395564079, 0.39268994331359863, -0.2962111234664917, 0.16640746593475342, 0.14687994122505188, 0.051083754748106, -0.09270036220550537, -0.3657827079296112, -0.16637329757213593, 0.056689295917749405, 0.11451363563537598, 0.4158405065536499, -0.25653207302093506, 0.1536584198474884, 0.019245559349656105, 0.10618333518505096, 0.3442462086677551, 0.07325129210948944, 0.23627611994743347, -0.04563209414482117, -0.014772702939808369, -0.09576912969350815, -0.08035600930452347, 0.1882309466600418, -0.2227449119091034, -0.040622908622026443, 0.1498202681541443, -0.3094731569290161, -0.08065325766801834, -0.2440836876630783, 0.14994721114635468, -0.26658788323402405, -0.1750231236219406, -0.33810386061668396, -0.03129757568240166, 0.09017220884561539, 0.002037322148680687, -0.11545311659574509, 0.189830482006073, -0.08580857515335083, 0.08305541425943375, 0.24682043492794037, 0.2284989356994629, 0.18624480068683624, 0.1764979362487793, -0.13005408644676208, -0.4330473840236664, 0.11368405818939209, 0.11667520552873611, -0.23759330809116364, -0.1026320829987526, 0.2087479829788208, 0.03580143675208092, -0.005325343459844589, 0.21470122039318085, 0.10127253085374832, -0.10096272826194763, 0.3264371454715729, -0.14338643848896027, -0.00015697628259658813, -0.40393224358558655, -0.40677210688591003, 0.07660388946533203, -0.08529617637395859, -0.2802681028842926]\n"
     ]
    }
   ],
   "source": [
    "print(model['king'])"
   ]
  },
  {
   "cell_type": "code",
   "execution_count": null,
   "metadata": {
    "collapsed": true
   },
   "outputs": [],
   "source": []
  },
  {
   "cell_type": "code",
   "execution_count": 42,
   "metadata": {},
   "outputs": [],
   "source": [
    "with open('corpus/wiki_simple_train_small.txt', \"r\") as g:\n",
    "    sim = g.read()"
   ]
  },
  {
   "cell_type": "code",
   "execution_count": 37,
   "metadata": {
    "collapsed": true
   },
   "outputs": [],
   "source": [
    "from nltk.tokenize import word_tokenize"
   ]
  },
  {
   "cell_type": "code",
   "execution_count": 44,
   "metadata": {},
   "outputs": [
    {
     "data": {
      "text/plain": [
       "['He',\n",
       " 'died',\n",
       " 'in',\n",
       " '999',\n",
       " '.',\n",
       " 'Armenian',\n",
       " 'monk',\n",
       " 'Gregory',\n",
       " 'of',\n",
       " 'Nicopolis']"
      ]
     },
     "execution_count": 44,
     "metadata": {},
     "output_type": "execute_result"
    }
   ],
   "source": [
    "wiki_small = word_tokenize(sim)\n",
    "wiki_small[:10]"
   ]
  },
  {
   "cell_type": "code",
   "execution_count": 54,
   "metadata": {},
   "outputs": [],
   "source": [
    "i=0\n",
    "for word in wiki_small:\n",
    "    if word not in model.words:\n",
    "        i+=1"
   ]
  },
  {
   "cell_type": "code",
   "execution_count": 55,
   "metadata": {},
   "outputs": [
    {
     "data": {
      "text/plain": [
       "31696"
      ]
     },
     "execution_count": 55,
     "metadata": {},
     "output_type": "execute_result"
    }
   ],
   "source": [
    "i"
   ]
  },
  {
   "cell_type": "code",
   "execution_count": null,
   "metadata": {
    "collapsed": true
   },
   "outputs": [],
   "source": []
  }
 ],
 "metadata": {
  "kernelspec": {
   "display_name": "Python 3",
   "language": "python",
   "name": "python3"
  },
  "language_info": {
   "codemirror_mode": {
    "name": "ipython",
    "version": 3
   },
   "file_extension": ".py",
   "mimetype": "text/x-python",
   "name": "python",
   "nbconvert_exporter": "python",
   "pygments_lexer": "ipython3",
   "version": "3.6.2"
  }
 },
 "nbformat": 4,
 "nbformat_minor": 2
}
