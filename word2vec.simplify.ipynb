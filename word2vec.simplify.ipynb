{
 "cells": [
  {
   "cell_type": "code",
   "execution_count": 1,
   "metadata": {
    "collapsed": true
   },
   "outputs": [],
   "source": [
    "import pickle\n",
    "\n",
    "from gensim import models\n",
    "from gensim.models import Word2Vec"
   ]
  },
  {
   "cell_type": "code",
   "execution_count": 2,
   "metadata": {
    "collapsed": true
   },
   "outputs": [],
   "source": [
    "with open(\"preprocessing/complex_preprocessed\", \"rb\") as f:\n",
    "    complex_sentences = pickle.load(f)"
   ]
  },
  {
   "cell_type": "code",
   "execution_count": 3,
   "metadata": {
    "collapsed": true
   },
   "outputs": [],
   "source": [
    "with open(\"preprocessing/simple_preprocessed\", \"rb\") as g:\n",
    "    simple_sentences = pickle.load(g)"
   ]
  },
  {
   "cell_type": "code",
   "execution_count": 4,
   "metadata": {
    "collapsed": true
   },
   "outputs": [],
   "source": [
    "complex_model = Word2Vec(complex_sentences, min_count=1, size = 100)\n",
    "simple_model = Word2Vec(complex_sentences, min_count=1, size = 100)"
   ]
  },
  {
   "cell_type": "code",
   "execution_count": 5,
   "metadata": {
    "collapsed": true
   },
   "outputs": [],
   "source": [
    "complex_model.save('word2vec/compl_vectors')\n",
    "simple_model.save('word2vec/simpl_vectors')"
   ]
  },
  {
   "cell_type": "markdown",
   "metadata": {},
   "source": [
    "### play with vectors"
   ]
  },
  {
   "cell_type": "code",
   "execution_count": 62,
   "metadata": {
    "collapsed": true
   },
   "outputs": [],
   "source": [
    "# access to saved vectors\n",
    "\n",
    "compl_model = Word2Vec.load('word2vec/compl_vectors')"
   ]
  },
  {
   "cell_type": "code",
   "execution_count": 63,
   "metadata": {},
   "outputs": [
    {
     "name": "stdout",
     "output_type": "stream",
     "text": [
      "['armenian', 'monk', 'gregory', 'of', 'nicopolis', '(', 'makar', ')', 'grégoire', 'de', 'brought', 'ginger', 'bread', 'to', 'europe', 'in', '992', '.', 'the', 'custom', 'was', 'bake', 'white', 'biscuits', 'and', 'paint', 'them', 'as', 'window', 'decorations', 'german', 'immigrants', 'it', 'sweden', 'during', '13th', 'century', 'after', ',', 'a', 'confection', 'made', 'with', 'honey', 'spices', 'records', 'show', 'that', 'gingerbread', 'were', 'sold', 'monasteries', 'pharmacies', 'town', 'square', 'farmers', \"'\", 'markets', '16th', 'he', 'left', 'pompeii', 'lesser', 'armenia', 'live', 'bondaroy', 'france', 'stayed', 'seven', 'years', 'before', 'from', 'latin', 'zingiber', 'then', 'old', 'french', 'gingebras', 'meant', 'preserved', 'swedish', 'nuns', 'baked', 'help', 'indigestion', 'year', '1444', 'higher', 'humidity', 'rate', 'evaporation', 'is', 'less', 'son', 'photocopier', 'technician', 'trained', 'butcher', 'but', 'became']\n"
     ]
    }
   ],
   "source": [
    "words = list(compl_model.wv.vocab)\n",
    "print(words[:100])"
   ]
  },
  {
   "cell_type": "code",
   "execution_count": 72,
   "metadata": {},
   "outputs": [
    {
     "name": "stdout",
     "output_type": "stream",
     "text": [
      "[-1.95942387e-01  4.59474465e-03 -2.03288496e-01  7.21005261e-01\n",
      " -5.87109447e-01  2.24423245e-01 -9.18249428e-01  4.03739780e-01\n",
      "  9.85192582e-02  5.16573489e-02 -8.72684419e-01  1.07455480e+00\n",
      " -4.04173851e-01 -1.03940666e-01  2.53785193e-01  5.37278593e-01\n",
      "  7.62059167e-02  1.05135036e+00  5.02066076e-01 -1.08347833e+00\n",
      "  4.36554968e-01 -3.35469455e-01  1.14413083e-01  6.12833202e-01\n",
      " -1.96637824e-01 -2.02364877e-01 -1.71647713e-01  1.28322184e+00\n",
      "  8.27862993e-02  5.45960246e-03  1.40585995e+00 -1.01497710e-01\n",
      "  4.44838613e-01  2.19563872e-01  3.62944365e-01 -4.55414951e-01\n",
      " -5.43243252e-02  1.25000462e-01 -3.40934753e-01  4.67081547e-01\n",
      "  5.01248538e-01 -1.24454997e-01  4.92465794e-01 -4.51683581e-01\n",
      " -3.12115457e-02  1.01028077e-01  8.34683061e-01  3.12151909e-02\n",
      "  8.87831151e-02 -3.39425772e-01  9.07627046e-01  5.19544303e-01\n",
      "  2.29473129e-01  1.21565573e-01  3.91205132e-01  3.73467386e-01\n",
      " -5.14497876e-01 -5.01179814e-01  3.48103009e-02  4.14716929e-01\n",
      " -3.02000701e-01 -1.23369932e-01  4.86867540e-02  2.48480245e-01\n",
      "  7.75767267e-01 -1.93246767e-01  1.14361480e-01  2.32307047e-01\n",
      " -3.53879392e-01 -2.17854619e-01 -5.27725443e-02  5.84756881e-02\n",
      "  1.67469352e-01 -6.95792496e-01  5.13820350e-02 -2.60869980e-01\n",
      " -3.90211158e-02 -7.14267015e-01  8.25274348e-01  1.66945040e-01\n",
      " -2.29445487e-01 -2.22454622e-01  4.25823748e-01 -8.47111195e-02\n",
      " -5.06241284e-02  1.11905783e-01  1.27883613e-01  1.06663294e-01\n",
      " -2.27692008e-01 -1.04037933e-02  6.53305799e-02  4.40085560e-01\n",
      " -6.81019351e-02 -5.10323107e-01  2.24457711e-01 -2.89573789e-01\n",
      "  1.01214767e-01  1.44910499e-01 -4.20749813e-01 -1.24604903e-01\n",
      " -8.67118686e-02  7.45734572e-01 -1.66144129e-02 -4.44162786e-01\n",
      " -7.70763874e-01 -1.55670866e-01 -4.06113088e-01  3.59785378e-01\n",
      "  7.18236327e-01  3.79114300e-02  3.13308716e-01 -5.28716922e-01\n",
      "  2.19863921e-01 -1.01300307e-01 -1.99324682e-01  9.22179461e-01\n",
      "  7.97678381e-02  1.11623013e+00 -3.42709981e-02 -1.61016539e-01\n",
      " -4.64536622e-02  5.66451311e-01 -4.80720192e-01  8.94018728e-03\n",
      "  2.08617687e-01  9.24073696e-01  1.89267099e-01  2.13020667e-01\n",
      "  1.79789975e-01  1.53295475e-03 -4.14681017e-01 -4.95920032e-01\n",
      " -7.55463094e-02  5.55971265e-01 -1.03846920e+00 -9.14467394e-01\n",
      " -1.74748167e-01 -1.37932137e-01  1.51588805e-02 -1.14369653e-01\n",
      "  3.22953165e-01  3.72868627e-01 -2.24526808e-01 -1.08197129e+00\n",
      "  1.55978680e+00  2.13820517e-01  6.77881777e-01  1.30242181e+00\n",
      " -2.76803344e-01  1.58545956e-01  4.22766268e-01 -1.23398376e+00\n",
      "  3.51203352e-01 -1.34274632e-01 -3.72379154e-01  2.88222939e-01\n",
      "  1.87005084e-02 -5.80304228e-02 -3.90825197e-02  1.02648020e+00\n",
      "  4.85316277e-01 -4.25167352e-01  5.60578883e-01  7.81979740e-01\n",
      "  9.35741723e-01 -4.82636929e-01  8.83159757e-01  1.32320017e-01\n",
      "  4.22903448e-02 -8.65488112e-01 -3.52025300e-01 -6.83882475e-01\n",
      " -2.02140603e-02 -3.46651636e-02  1.15834966e-01  6.12901211e-01\n",
      "  6.85226321e-01  6.62651137e-02  4.96969968e-01  2.22665649e-02\n",
      " -9.11068261e-01  8.20641816e-01  2.74270535e-01  7.43695974e-01\n",
      " -1.97541550e-01 -6.58158720e-01 -8.37568417e-02 -9.70165551e-01\n",
      "  1.45171613e-01  3.73790532e-01  2.82961875e-01  1.13326229e-01\n",
      " -4.21260223e-02  7.49405921e-01 -1.68745130e-01  2.54287750e-01\n",
      "  1.02935597e-01  1.26332819e-01 -6.57802001e-02 -3.06482110e-02\n",
      "  3.00912559e-01  2.16510624e-01  4.83498305e-01 -6.14202201e-01\n",
      "  8.12188089e-01  4.62504774e-01  1.01065767e+00 -4.38012898e-01\n",
      " -4.45958644e-01 -4.19969738e-01 -7.53511906e-01 -2.28837997e-01\n",
      " -7.55199015e-01  4.15004879e-01 -1.13174796e+00 -4.69340421e-02\n",
      " -2.12620229e-01 -8.36378694e-01  2.28545174e-01 -1.01046050e+00\n",
      "  3.31665039e-01 -1.03031777e-01 -3.31790060e-01 -2.59372741e-01\n",
      "  2.65015244e-01 -1.06032193e-01  5.43736577e-01  3.44482929e-01\n",
      " -8.09044957e-01 -6.31291047e-02  8.66328031e-02 -2.42828652e-01\n",
      " -5.43251038e-01 -1.26333132e-01 -1.84944570e-01 -4.88051653e-01\n",
      " -3.83056365e-02 -9.39321220e-01  1.63927600e-01 -7.89900184e-01\n",
      "  2.60653079e-01  9.91262078e-01  2.48902887e-02 -8.60066772e-01\n",
      "  2.90965229e-01 -4.55639279e-03  1.14158511e-01 -3.90183657e-01\n",
      "  1.24438417e+00  3.00419509e-01 -5.18042505e-01 -5.18579185e-01\n",
      "  1.75182074e-01  3.62223051e-02 -1.05347253e-01 -1.09519958e+00\n",
      "  2.34512284e-01 -4.57450122e-01  2.96878636e-01 -1.19356275e+00\n",
      " -9.28902984e-01 -1.73758179e-01 -1.78528741e-01  1.84278518e-01\n",
      "  4.62129414e-01  7.03662157e-01  2.93385237e-01  5.12277246e-01\n",
      " -4.85667020e-01 -1.49932981e-01 -4.84739572e-01 -1.98220342e-01\n",
      "  5.07369578e-01 -3.06632724e-02  2.32037008e-01 -3.10597956e-01\n",
      " -1.42123938e-01 -3.82635146e-02  2.48528466e-01  2.36372188e-01\n",
      "  5.88439047e-01 -4.07196164e-01  5.08610979e-02  8.98478255e-02\n",
      "  9.25770760e-01 -1.58955008e-01  5.20612225e-02 -2.36101806e-01\n",
      " -1.37340590e-01 -3.78674835e-01 -8.63286197e-01 -2.97020704e-01\n",
      "  2.60775890e-02 -7.50768661e-01  6.86775267e-01 -9.30242598e-01\n",
      " -3.55776131e-01 -1.07129358e-01 -2.48938501e-01  8.09732527e-02]\n"
     ]
    },
    {
     "name": "stderr",
     "output_type": "stream",
     "text": [
      "/Users/dominik_pfuetze/anaconda/lib/python3.6/site-packages/ipykernel_launcher.py:5: DeprecationWarning: Call to deprecated `__getitem__` (Method will be removed in 4.0.0, use self.wv.__getitem__() instead).\n",
      "  \"\"\"\n"
     ]
    }
   ],
   "source": [
    "# b = a ist nur \"verknüpfung\" daher deepcopy oder b = a[:]\n",
    "\n",
    "from copy import deepcopy as dc\n",
    "\n",
    "word_vector = dc(compl_model[\",\"])\n",
    "print(word_vector)"
   ]
  },
  {
   "cell_type": "code",
   "execution_count": 73,
   "metadata": {
    "collapsed": true
   },
   "outputs": [],
   "source": [
    "#change value in vector\n",
    "word_vector[0] = 0.5"
   ]
  },
  {
   "cell_type": "code",
   "execution_count": 74,
   "metadata": {},
   "outputs": [
    {
     "name": "stderr",
     "output_type": "stream",
     "text": [
      "/Users/dominik_pfuetze/anaconda/lib/python3.6/site-packages/ipykernel_launcher.py:1: DeprecationWarning: Call to deprecated `most_similar` (Method will be removed in 4.0.0, use self.wv.most_similar() instead).\n",
      "  \"\"\"Entry point for launching an IPython kernel.\n"
     ]
    },
    {
     "data": {
      "text/plain": [
       "[(',', 0.9967737793922424)]"
      ]
     },
     "execution_count": 74,
     "metadata": {},
     "output_type": "execute_result"
    }
   ],
   "source": [
    "compl_model.most_similar(positive=[word_vector], topn=1)"
   ]
  }
 ],
 "metadata": {
  "kernelspec": {
   "display_name": "Python 3",
   "language": "python",
   "name": "python3"
  },
  "language_info": {
   "codemirror_mode": {
    "name": "ipython",
    "version": 3
   },
   "file_extension": ".py",
   "mimetype": "text/x-python",
   "name": "python",
   "nbconvert_exporter": "python",
   "pygments_lexer": "ipython3",
   "version": "3.6.2"
  }
 },
 "nbformat": 4,
 "nbformat_minor": 2
}
